{
 "cells": [
  {
   "cell_type": "markdown",
   "id": "aca5285b",
   "metadata": {},
   "source": [
    "1. Опишите какой результат нейросети получен в зависимости от:\n",
    "- числа нейронов в слое для друхслойной сети\n",
    "- числа слоев (2, 3, 5, 10) при близких размерах сети (число тренируемых параметров)\n",
    "- фиксируйте для треинровочноог и тестового набора метрики accuracy\n",
    "2. Проверьте работыу разных оптимизаторов для одной из моделей\n",
    "3. Что помогло вам улучшить качество нейросети на тестовом наборе?\n",
    "4. Для одного варианта сети сформируйте матрицу ошибок по классам. Оцените качетсво модели по каждому классу отдельно (точностьб полнота)"
   ]
  },
  {
   "cell_type": "code",
   "execution_count": 1,
   "id": "bdb16c33",
   "metadata": {},
   "outputs": [],
   "source": [
    "import numpy as np\n",
    "import pandas as pd\n",
    "import matplotlib.pyplot as plt\n",
    "import seaborn as sn\n",
    "import tensorflow as tf\n",
    "import itertools\n",
    "import keras\n",
    "from keras.models import Sequential, load_model\n",
    "from keras.layers import Dense\n",
    "from keras.utils import to_categorical\n",
    "from sklearn.metrics import confusion_matrix, ConfusionMatrixDisplay\n",
    "\n",
    "from keras.datasets import fashion_mnist\n",
    "\n",
    "tf.random.set_seed(1)"
   ]
  },
  {
   "cell_type": "code",
   "execution_count": 2,
   "id": "29be2f19",
   "metadata": {},
   "outputs": [
    {
     "data": {
      "text/plain": [
       "(0, 255, (60000, 28, 28), (10000, 28, 28))"
      ]
     },
     "execution_count": 2,
     "metadata": {},
     "output_type": "execute_result"
    }
   ],
   "source": [
    "(train_images, train_labels), (test_images, test_labels) = fashion_mnist.load_data()\n",
    "train_images.min(), train_images.max(), train_images.shape, test_images.shape"
   ]
  },
  {
   "cell_type": "code",
   "execution_count": 3,
   "id": "708fc05b",
   "metadata": {},
   "outputs": [
    {
     "data": {
      "text/plain": [
       "array([9, 2, 1, ..., 8, 1, 5], dtype=uint8)"
      ]
     },
     "execution_count": 3,
     "metadata": {},
     "output_type": "execute_result"
    }
   ],
   "source": [
    "test_labels"
   ]
  },
  {
   "cell_type": "code",
   "execution_count": 4,
   "id": "800b6407",
   "metadata": {
    "scrolled": true
   },
   "outputs": [
    {
     "name": "stdout",
     "output_type": "stream",
     "text": [
      "Label is 8\n"
     ]
    },
    {
     "data": {
      "image/png": "[encoded data removed]",
      "text/plain": [
       "<Figure size 432x288 with 1 Axes>"
      ]
     },
     "metadata": {
      "needs_background": "light"
     },
     "output_type": "display_data"
    }
   ],
   "source": [
    "ind = np.random.randint(0, train_images.shape[0])\n",
    "plt.imshow(train_images[ind], cmap='gray')\n",
    "print(f'Label is {train_labels[ind]}')"
   ]
  },
  {
   "cell_type": "code",
   "execution_count": 5,
   "id": "d0275537",
   "metadata": {},
   "outputs": [
    {
     "data": {
      "text/plain": [
       "(0.0, 1.0)"
      ]
     },
     "execution_count": 5,
     "metadata": {},
     "output_type": "execute_result"
    }
   ],
   "source": [
    "#нормализация данных\n",
    "train_images = train_images / 255.0\n",
    "test_images = test_images / 255.0\n",
    "train_images.min(), train_images.max()"
   ]
  },
  {
   "cell_type": "code",
   "execution_count": 6,
   "id": "445922da",
   "metadata": {},
   "outputs": [
    {
     "data": {
      "text/plain": [
       "((60000, 784), (60000, 784), 0.0, 1.0)"
      ]
     },
     "execution_count": 6,
     "metadata": {},
     "output_type": "execute_result"
    }
   ],
   "source": [
    "# Вытягивание признаков\n",
    "X_train = train_images.reshape((-1, 28 * 28))\n",
    "X_test = test_images.reshape((-1, 28 * 28))\n",
    "X_train.shape, X_train.shape, X_train.min(), X_train.max()"
   ]
  },
  {
   "cell_type": "code",
   "execution_count": 7,
   "id": "f744131e",
   "metadata": {
    "scrolled": true
   },
   "outputs": [
    {
     "data": {
      "text/plain": [
       "(array([[0., 0., 0., 0., 0., 0., 0., 0., 0., 1.],\n",
       "        [1., 0., 0., 0., 0., 0., 0., 0., 0., 0.]], dtype=float32),\n",
       " array([[0., 0., 0., 0., 0., 0., 0., 0., 0., 1.],\n",
       "        [0., 0., 1., 0., 0., 0., 0., 0., 0., 0.]], dtype=float32))"
      ]
     },
     "execution_count": 7,
     "metadata": {},
     "output_type": "execute_result"
    }
   ],
   "source": [
    "y_train = to_categorical(train_labels)\n",
    "y_test = to_categorical(test_labels)\n",
    "\n",
    "y_train[:2], y_test[:2]"
   ]
  },
  {
   "cell_type": "code",
   "execution_count": 8,
   "id": "a6b99dfd",
   "metadata": {},
   "outputs": [
    {
     "name": "stdout",
     "output_type": "stream",
     "text": [
      "Model: \"sequential\"\n",
      "_________________________________________________________________\n",
      " Layer (type)                Output Shape              Param #   \n",
      "=================================================================\n",
      " dense (Dense)               (None, 64)                50240     \n",
      "                                                                 \n",
      " dense_1 (Dense)             (None, 32)                2080      \n",
      "                                                                 \n",
      " dense_2 (Dense)             (None, 10)                330       \n",
      "                                                                 \n",
      "=================================================================\n",
      "Total params: 52,650\n",
      "Trainable params: 52,650\n",
      "Non-trainable params: 0\n",
      "_________________________________________________________________\n"
     ]
    }
   ],
   "source": [
    "model = Sequential()\n",
    "\n",
    "model.add(Dense(64, input_shape=(28 * 28,), activation=\"relu\"))\n",
    "model.add(Dense(32, activation='relu'))\n",
    "model.add(Dense(10, activation='sigmoid'))\n",
    "\n",
    "model.summary()"
   ]
  },
  {
   "cell_type": "code",
   "execution_count": 9,
   "id": "78db4526",
   "metadata": {},
   "outputs": [
    {
     "name": "stdout",
     "output_type": "stream",
     "text": [
      "Model: \"sequential_1\"\n",
      "_________________________________________________________________\n",
      " Layer (type)                Output Shape              Param #   \n",
      "=================================================================\n",
      " dense_3 (Dense)             (None, 64)                50240     \n",
      "                                                                 \n",
      " dense_4 (Dense)             (None, 32)                2080      \n",
      "                                                                 \n",
      " dense_5 (Dense)             (None, 10)                330       \n",
      "                                                                 \n",
      "=================================================================\n",
      "Total params: 52,650\n",
      "Trainable params: 52,650\n",
      "Non-trainable params: 0\n",
      "_________________________________________________________________\n"
     ]
    }
   ],
   "source": [
    "model = Sequential([\n",
    "    Dense(64, input_shape=(28 * 28,), activation=\"relu\"),\n",
    "    Dense(32, activation='relu'),\n",
    "    Dense(10, activation='sigmoid')\n",
    "])\n",
    "\n",
    "model.summary()"
   ]
  },
  {
   "cell_type": "code",
   "execution_count": 10,
   "id": "680f904a",
   "metadata": {},
   "outputs": [
    {
     "data": {
      "text/plain": [
       "{'name': 'sequential_1',\n",
       " 'layers': [{'class_name': 'InputLayer',\n",
       "   'config': {'batch_input_shape': (None, 784),\n",
       "    'dtype': 'float32',\n",
       "    'sparse': False,\n",
       "    'ragged': False,\n",
       "    'name': 'dense_3_input'}},\n",
       "  {'class_name': 'Dense',\n",
       "   'config': {'name': 'dense_3',\n",
       "    'trainable': True,\n",
       "    'dtype': 'float32',\n",
       "    'batch_input_shape': (None, 784),\n",
       "    'units': 64,\n",
       "    'activation': 'relu',\n",
       "    'use_bias': True,\n",
       "    'kernel_initializer': {'class_name': 'GlorotUniform',\n",
       "     'config': {'seed': None}},\n",
       "    'bias_initializer': {'class_name': 'Zeros', 'config': {}},\n",
       "    'kernel_regularizer': None,\n",
       "    'bias_regularizer': None,\n",
       "    'activity_regularizer': None,\n",
       "    'kernel_constraint': None,\n",
       "    'bias_constraint': None}},\n",
       "  {'class_name': 'Dense',\n",
       "   'config': {'name': 'dense_4',\n",
       "    'trainable': True,\n",
       "    'dtype': 'float32',\n",
       "    'units': 32,\n",
       "    'activation': 'relu',\n",
       "    'use_bias': True,\n",
       "    'kernel_initializer': {'class_name': 'GlorotUniform',\n",
       "     'config': {'seed': None}},\n",
       "    'bias_initializer': {'class_name': 'Zeros', 'config': {}},\n",
       "    'kernel_regularizer': None,\n",
       "    'bias_regularizer': None,\n",
       "    'activity_regularizer': None,\n",
       "    'kernel_constraint': None,\n",
       "    'bias_constraint': None}},\n",
       "  {'class_name': 'Dense',\n",
       "   'config': {'name': 'dense_5',\n",
       "    'trainable': True,\n",
       "    'dtype': 'float32',\n",
       "    'units': 10,\n",
       "    'activation': 'sigmoid',\n",
       "    'use_bias': True,\n",
       "    'kernel_initializer': {'class_name': 'GlorotUniform',\n",
       "     'config': {'seed': None}},\n",
       "    'bias_initializer': {'class_name': 'Zeros', 'config': {}},\n",
       "    'kernel_regularizer': None,\n",
       "    'bias_regularizer': None,\n",
       "    'activity_regularizer': None,\n",
       "    'kernel_constraint': None,\n",
       "    'bias_constraint': None}}]}"
      ]
     },
     "execution_count": 10,
     "metadata": {},
     "output_type": "execute_result"
    }
   ],
   "source": [
    "config = model.get_config()\n",
    "config"
   ]
  },
  {
   "cell_type": "code",
   "execution_count": 11,
   "id": "69781845",
   "metadata": {},
   "outputs": [],
   "source": [
    "# Compile the model.\n",
    "model.compile(optimizer='adam', loss='categorical_crossentropy', metrics=['accuracy'])"
   ]
  },
  {
   "cell_type": "code",
   "execution_count": 12,
   "id": "004fd306",
   "metadata": {},
   "outputs": [
    {
     "name": "stdout",
     "output_type": "stream",
     "text": [
      "Epoch 1/5\n",
      "235/235 [==============================] - 2s 5ms/step - loss: 0.6531 - accuracy: 0.7806 - val_loss: 0.5248 - val_accuracy: 0.8178\n",
      "Epoch 2/5\n",
      "235/235 [==============================] - 1s 4ms/step - loss: 0.4403 - accuracy: 0.8485 - val_loss: 0.4687 - val_accuracy: 0.8384\n",
      "Epoch 3/5\n",
      "235/235 [==============================] - 1s 3ms/step - loss: 0.4030 - accuracy: 0.8604 - val_loss: 0.4624 - val_accuracy: 0.8381\n",
      "Epoch 4/5\n",
      "235/235 [==============================] - 1s 4ms/step - loss: 0.3810 - accuracy: 0.8659 - val_loss: 0.4303 - val_accuracy: 0.8467\n",
      "Epoch 5/5\n",
      "235/235 [==============================] - 1s 4ms/step - loss: 0.3548 - accuracy: 0.8747 - val_loss: 0.4057 - val_accuracy: 0.8558\n"
     ]
    }
   ],
   "source": [
    "history = model.fit(X_train, y_train,\n",
    "                   epochs=5,\n",
    "                   batch_size=256,\n",
    "                   verbose=1,\n",
    "                   validation_data=(X_test, y_test))"
   ]
  },
  {
   "cell_type": "code",
   "execution_count": 13,
   "id": "89a6c3af",
   "metadata": {},
   "outputs": [
    {
     "name": "stdout",
     "output_type": "stream",
     "text": [
      "Epoch 1/5\n",
      "48/48 [==============================] - 1s 13ms/step - loss: 0.3315 - accuracy: 0.8826 - val_loss: 0.3257 - val_accuracy: 0.8844\n",
      "Epoch 2/5\n",
      "48/48 [==============================] - 1s 11ms/step - loss: 0.3219 - accuracy: 0.8850 - val_loss: 0.3227 - val_accuracy: 0.8867\n",
      "Epoch 3/5\n",
      "48/48 [==============================] - 1s 12ms/step - loss: 0.3168 - accuracy: 0.8874 - val_loss: 0.3246 - val_accuracy: 0.8847\n",
      "Epoch 4/5\n",
      "48/48 [==============================] - 1s 11ms/step - loss: 0.3120 - accuracy: 0.8894 - val_loss: 0.3225 - val_accuracy: 0.8865\n",
      "Epoch 5/5\n",
      "48/48 [==============================] - 1s 12ms/step - loss: 0.3091 - accuracy: 0.8894 - val_loss: 0.3201 - val_accuracy: 0.8871\n"
     ]
    }
   ],
   "source": [
    "history = model.fit(X_train, y_train,\n",
    "                   epochs=5,\n",
    "                   batch_size=1000,\n",
    "                   verbose=1,\n",
    "                   validation_split=0.2)"
   ]
  },
  {
   "cell_type": "code",
   "execution_count": 14,
   "id": "f028effa",
   "metadata": {},
   "outputs": [
    {
     "data": {
      "text/plain": [
       "{'loss': [0.33153223991394043,\n",
       "  0.3218823969364166,\n",
       "  0.31679680943489075,\n",
       "  0.31200867891311646,\n",
       "  0.30910760164260864],\n",
       " 'accuracy': [0.8825833201408386,\n",
       "  0.8850208520889282,\n",
       "  0.8874375224113464,\n",
       "  0.8894374966621399,\n",
       "  0.8894166946411133],\n",
       " 'val_loss': [0.3256526291370392,\n",
       "  0.3226798176765442,\n",
       "  0.32457756996154785,\n",
       "  0.3224799335002899,\n",
       "  0.3200583755970001],\n",
       " 'val_accuracy': [0.8844166398048401,\n",
       "  0.8867499828338623,\n",
       "  0.8846666812896729,\n",
       "  0.8865000009536743,\n",
       "  0.8870833516120911]}"
      ]
     },
     "execution_count": 14,
     "metadata": {},
     "output_type": "execute_result"
    }
   ],
   "source": [
    "history.history"
   ]
  },
  {
   "cell_type": "code",
   "execution_count": 15,
   "id": "97610240",
   "metadata": {},
   "outputs": [
    {
     "data": {
      "text/plain": [
       "<matplotlib.legend.Legend at 0x1d1f53b1040>"
      ]
     },
     "execution_count": 15,
     "metadata": {},
     "output_type": "execute_result"
    },
    {
     "data": {
      "image/png": "[encoded data removed]",
      "text/plain": [
       "<Figure size 432x288 with 1 Axes>"
      ]
     },
     "metadata": {
      "needs_background": "light"
     },
     "output_type": "display_data"
    }
   ],
   "source": [
    "train_acc = history.history['accuracy']\n",
    "val_acc = history.history['val_accuracy']\n",
    "\n",
    "plt.plot(train_acc, label='train')\n",
    "plt.plot(val_acc, label='val')\n",
    "plt.legend()"
   ]
  },
  {
   "cell_type": "code",
   "execution_count": 16,
   "id": "e16c4186",
   "metadata": {},
   "outputs": [
    {
     "name": "stdout",
     "output_type": "stream",
     "text": [
      "313/313 [==============================] - 0s 1ms/step - loss: 0.3703 - accuracy: 0.8688\n"
     ]
    },
    {
     "data": {
      "text/plain": [
       "(0.37029141187667847, 0.8687999844551086)"
      ]
     },
     "execution_count": 16,
     "metadata": {},
     "output_type": "execute_result"
    }
   ],
   "source": [
    "loss, metric = model.evaluate(X_test, y_test)\n",
    "loss, metric"
   ]
  },
  {
   "cell_type": "code",
   "execution_count": 17,
   "id": "3d697cd9",
   "metadata": {},
   "outputs": [
    {
     "name": "stdout",
     "output_type": "stream",
     "text": [
      "1/1 [==============================] - 0s 107ms/step\n"
     ]
    },
    {
     "data": {
      "text/plain": [
       "array([[9.8511320e-01, 5.0844427e-02, 9.9999952e-01, 9.3388647e-01,\n",
       "        9.9996173e-01, 1.3475081e-07, 9.9988008e-01, 5.4483131e-05,\n",
       "        5.0093353e-01, 1.8246234e-06]], dtype=float32)"
      ]
     },
     "execution_count": 17,
     "metadata": {},
     "output_type": "execute_result"
    }
   ],
   "source": [
    "prediction = model.predict(X_test[1][None])\n",
    "prediction"
   ]
  },
  {
   "cell_type": "code",
   "execution_count": 18,
   "id": "9a7cf290",
   "metadata": {},
   "outputs": [
    {
     "data": {
      "text/plain": [
       "array([2], dtype=int64)"
      ]
     },
     "execution_count": 18,
     "metadata": {},
     "output_type": "execute_result"
    }
   ],
   "source": [
    "pred_labels = np.argmax(prediction, axis=1)\n",
    "pred_labels"
   ]
  },
  {
   "cell_type": "code",
   "execution_count": 19,
   "id": "752b77a9",
   "metadata": {},
   "outputs": [
    {
     "data": {
      "text/plain": [
       "array([9, 2, 1], dtype=uint8)"
      ]
     },
     "execution_count": 19,
     "metadata": {},
     "output_type": "execute_result"
    }
   ],
   "source": [
    "test_labels[:3]"
   ]
  },
  {
   "cell_type": "code",
   "execution_count": 20,
   "id": "47a2cbb4",
   "metadata": {},
   "outputs": [],
   "source": [
    "model.save_weights('model_weights.h5')\n",
    "\n",
    "model.save('model.h5')"
   ]
  },
  {
   "cell_type": "code",
   "execution_count": 21,
   "id": "8f0bf8a8",
   "metadata": {},
   "outputs": [],
   "source": [
    "model = load_model('model.h5')"
   ]
  },
  {
   "cell_type": "markdown",
   "id": "118cf7d0",
   "metadata": {},
   "source": [
    "### 1. Изменение числа нейронов и слоев"
   ]
  },
  {
   "cell_type": "code",
   "execution_count": 22,
   "id": "5a207037",
   "metadata": {
    "scrolled": false
   },
   "outputs": [
    {
     "name": "stdout",
     "output_type": "stream",
     "text": [
      "Model: \"sequential_2\"\n",
      "_________________________________________________________________\n",
      " Layer (type)                Output Shape              Param #   \n",
      "=================================================================\n",
      " dense_6 (Dense)             (None, 20)                15700     \n",
      "                                                                 \n",
      " dense_7 (Dense)             (None, 20)                420       \n",
      "                                                                 \n",
      " dense_8 (Dense)             (None, 10)                210       \n",
      "                                                                 \n",
      "=================================================================\n",
      "Total params: 16,330\n",
      "Trainable params: 16,330\n",
      "Non-trainable params: 0\n",
      "_________________________________________________________________\n",
      "Model: \"sequential_3\"\n",
      "_________________________________________________________________\n",
      " Layer (type)                Output Shape              Param #   \n",
      "=================================================================\n",
      " dense_9 (Dense)             (None, 20)                15700     \n",
      "                                                                 \n",
      " dense_10 (Dense)            (None, 40)                840       \n",
      "                                                                 \n",
      " dense_11 (Dense)            (None, 10)                410       \n",
      "                                                                 \n",
      "=================================================================\n",
      "Total params: 16,950\n",
      "Trainable params: 16,950\n",
      "Non-trainable params: 0\n",
      "_________________________________________________________________\n",
      "Model: \"sequential_4\"\n",
      "_________________________________________________________________\n",
      " Layer (type)                Output Shape              Param #   \n",
      "=================================================================\n",
      " dense_12 (Dense)            (None, 20)                15700     \n",
      "                                                                 \n",
      " dense_13 (Dense)            (None, 80)                1680      \n",
      "                                                                 \n",
      " dense_14 (Dense)            (None, 10)                810       \n",
      "                                                                 \n",
      "=================================================================\n",
      "Total params: 18,190\n",
      "Trainable params: 18,190\n",
      "Non-trainable params: 0\n",
      "_________________________________________________________________\n",
      "Model: \"sequential_5\"\n",
      "_________________________________________________________________\n",
      " Layer (type)                Output Shape              Param #   \n",
      "=================================================================\n",
      " dense_15 (Dense)            (None, 20)                15700     \n",
      "                                                                 \n",
      " dense_16 (Dense)            (None, 160)               3360      \n",
      "                                                                 \n",
      " dense_17 (Dense)            (None, 10)                1610      \n",
      "                                                                 \n",
      "=================================================================\n",
      "Total params: 20,670\n",
      "Trainable params: 20,670\n",
      "Non-trainable params: 0\n",
      "_________________________________________________________________\n",
      "Model: \"sequential_6\"\n",
      "_________________________________________________________________\n",
      " Layer (type)                Output Shape              Param #   \n",
      "=================================================================\n",
      " dense_18 (Dense)            (None, 20)                15700     \n",
      "                                                                 \n",
      " dense_19 (Dense)            (None, 320)               6720      \n",
      "                                                                 \n",
      " dense_20 (Dense)            (None, 10)                3210      \n",
      "                                                                 \n",
      "=================================================================\n",
      "Total params: 25,630\n",
      "Trainable params: 25,630\n",
      "Non-trainable params: 0\n",
      "_________________________________________________________________\n",
      "Model: \"sequential_7\"\n",
      "_________________________________________________________________\n",
      " Layer (type)                Output Shape              Param #   \n",
      "=================================================================\n",
      " dense_21 (Dense)            (None, 40)                31400     \n",
      "                                                                 \n",
      " dense_22 (Dense)            (None, 20)                820       \n",
      "                                                                 \n",
      " dense_23 (Dense)            (None, 10)                210       \n",
      "                                                                 \n",
      "=================================================================\n",
      "Total params: 32,430\n",
      "Trainable params: 32,430\n",
      "Non-trainable params: 0\n",
      "_________________________________________________________________\n",
      "Model: \"sequential_8\"\n",
      "_________________________________________________________________\n",
      " Layer (type)                Output Shape              Param #   \n",
      "=================================================================\n",
      " dense_24 (Dense)            (None, 40)                31400     \n",
      "                                                                 \n",
      " dense_25 (Dense)            (None, 40)                1640      \n",
      "                                                                 \n",
      " dense_26 (Dense)            (None, 10)                410       \n",
      "                                                                 \n",
      "=================================================================\n",
      "Total params: 33,450\n",
      "Trainable params: 33,450\n",
      "Non-trainable params: 0\n",
      "_________________________________________________________________\n",
      "Model: \"sequential_9\"\n",
      "_________________________________________________________________\n",
      " Layer (type)                Output Shape              Param #   \n",
      "=================================================================\n",
      " dense_27 (Dense)            (None, 40)                31400     \n",
      "                                                                 \n",
      " dense_28 (Dense)            (None, 80)                3280      \n",
      "                                                                 \n",
      " dense_29 (Dense)            (None, 10)                810       \n",
      "                                                                 \n",
      "=================================================================\n",
      "Total params: 35,490\n",
      "Trainable params: 35,490\n",
      "Non-trainable params: 0\n",
      "_________________________________________________________________\n",
      "Model: \"sequential_10\"\n",
      "_________________________________________________________________\n",
      " Layer (type)                Output Shape              Param #   \n",
      "=================================================================\n",
      " dense_30 (Dense)            (None, 40)                31400     \n",
      "                                                                 \n",
      " dense_31 (Dense)            (None, 160)               6560      \n",
      "                                                                 \n",
      " dense_32 (Dense)            (None, 10)                1610      \n",
      "                                                                 \n",
      "=================================================================\n",
      "Total params: 39,570\n",
      "Trainable params: 39,570\n",
      "Non-trainable params: 0\n",
      "_________________________________________________________________\n",
      "Model: \"sequential_11\"\n",
      "_________________________________________________________________\n",
      " Layer (type)                Output Shape              Param #   \n",
      "=================================================================\n",
      " dense_33 (Dense)            (None, 40)                31400     \n",
      "                                                                 \n",
      " dense_34 (Dense)            (None, 320)               13120     \n",
      "                                                                 \n",
      " dense_35 (Dense)            (None, 10)                3210      \n",
      "                                                                 \n",
      "=================================================================\n",
      "Total params: 47,730\n",
      "Trainable params: 47,730\n",
      "Non-trainable params: 0\n",
      "_________________________________________________________________\n",
      "Model: \"sequential_12\"\n"
     ]
    },
    {
     "name": "stdout",
     "output_type": "stream",
     "text": [
      "_________________________________________________________________\n",
      " Layer (type)                Output Shape              Param #   \n",
      "=================================================================\n",
      " dense_36 (Dense)            (None, 80)                62800     \n",
      "                                                                 \n",
      " dense_37 (Dense)            (None, 20)                1620      \n",
      "                                                                 \n",
      " dense_38 (Dense)            (None, 10)                210       \n",
      "                                                                 \n",
      "=================================================================\n",
      "Total params: 64,630\n",
      "Trainable params: 64,630\n",
      "Non-trainable params: 0\n",
      "_________________________________________________________________\n",
      "Model: \"sequential_13\"\n",
      "_________________________________________________________________\n",
      " Layer (type)                Output Shape              Param #   \n",
      "=================================================================\n",
      " dense_39 (Dense)            (None, 80)                62800     \n",
      "                                                                 \n",
      " dense_40 (Dense)            (None, 40)                3240      \n",
      "                                                                 \n",
      " dense_41 (Dense)            (None, 10)                410       \n",
      "                                                                 \n",
      "=================================================================\n",
      "Total params: 66,450\n",
      "Trainable params: 66,450\n",
      "Non-trainable params: 0\n",
      "_________________________________________________________________\n",
      "Model: \"sequential_14\"\n",
      "_________________________________________________________________\n",
      " Layer (type)                Output Shape              Param #   \n",
      "=================================================================\n",
      " dense_42 (Dense)            (None, 80)                62800     \n",
      "                                                                 \n",
      " dense_43 (Dense)            (None, 80)                6480      \n",
      "                                                                 \n",
      " dense_44 (Dense)            (None, 10)                810       \n",
      "                                                                 \n",
      "=================================================================\n",
      "Total params: 70,090\n",
      "Trainable params: 70,090\n",
      "Non-trainable params: 0\n",
      "_________________________________________________________________\n",
      "Model: \"sequential_15\"\n",
      "_________________________________________________________________\n",
      " Layer (type)                Output Shape              Param #   \n",
      "=================================================================\n",
      " dense_45 (Dense)            (None, 80)                62800     \n",
      "                                                                 \n",
      " dense_46 (Dense)            (None, 160)               12960     \n",
      "                                                                 \n",
      " dense_47 (Dense)            (None, 10)                1610      \n",
      "                                                                 \n",
      "=================================================================\n",
      "Total params: 77,370\n",
      "Trainable params: 77,370\n",
      "Non-trainable params: 0\n",
      "_________________________________________________________________\n",
      "Model: \"sequential_16\"\n",
      "_________________________________________________________________\n",
      " Layer (type)                Output Shape              Param #   \n",
      "=================================================================\n",
      " dense_48 (Dense)            (None, 80)                62800     \n",
      "                                                                 \n",
      " dense_49 (Dense)            (None, 320)               25920     \n",
      "                                                                 \n",
      " dense_50 (Dense)            (None, 10)                3210      \n",
      "                                                                 \n",
      "=================================================================\n",
      "Total params: 91,930\n",
      "Trainable params: 91,930\n",
      "Non-trainable params: 0\n",
      "_________________________________________________________________\n",
      "Model: \"sequential_17\"\n",
      "_________________________________________________________________\n",
      " Layer (type)                Output Shape              Param #   \n",
      "=================================================================\n",
      " dense_51 (Dense)            (None, 160)               125600    \n",
      "                                                                 \n",
      " dense_52 (Dense)            (None, 20)                3220      \n",
      "                                                                 \n",
      " dense_53 (Dense)            (None, 10)                210       \n",
      "                                                                 \n",
      "=================================================================\n",
      "Total params: 129,030\n",
      "Trainable params: 129,030\n",
      "Non-trainable params: 0\n",
      "_________________________________________________________________\n",
      "Model: \"sequential_18\"\n",
      "_________________________________________________________________\n",
      " Layer (type)                Output Shape              Param #   \n",
      "=================================================================\n",
      " dense_54 (Dense)            (None, 160)               125600    \n",
      "                                                                 \n",
      " dense_55 (Dense)            (None, 40)                6440      \n",
      "                                                                 \n",
      " dense_56 (Dense)            (None, 10)                410       \n",
      "                                                                 \n",
      "=================================================================\n",
      "Total params: 132,450\n",
      "Trainable params: 132,450\n",
      "Non-trainable params: 0\n",
      "_________________________________________________________________\n",
      "Model: \"sequential_19\"\n",
      "_________________________________________________________________\n",
      " Layer (type)                Output Shape              Param #   \n",
      "=================================================================\n",
      " dense_57 (Dense)            (None, 160)               125600    \n",
      "                                                                 \n",
      " dense_58 (Dense)            (None, 80)                12880     \n",
      "                                                                 \n",
      " dense_59 (Dense)            (None, 10)                810       \n",
      "                                                                 \n",
      "=================================================================\n",
      "Total params: 139,290\n",
      "Trainable params: 139,290\n",
      "Non-trainable params: 0\n",
      "_________________________________________________________________\n",
      "Model: \"sequential_20\"\n",
      "_________________________________________________________________\n",
      " Layer (type)                Output Shape              Param #   \n",
      "=================================================================\n",
      " dense_60 (Dense)            (None, 160)               125600    \n",
      "                                                                 \n",
      " dense_61 (Dense)            (None, 160)               25760     \n",
      "                                                                 \n",
      " dense_62 (Dense)            (None, 10)                1610      \n",
      "                                                                 \n",
      "=================================================================\n",
      "Total params: 152,970\n",
      "Trainable params: 152,970\n",
      "Non-trainable params: 0\n",
      "_________________________________________________________________\n",
      "Model: \"sequential_21\"\n",
      "_________________________________________________________________\n",
      " Layer (type)                Output Shape              Param #   \n",
      "=================================================================\n",
      " dense_63 (Dense)            (None, 160)               125600    \n",
      "                                                                 \n",
      " dense_64 (Dense)            (None, 320)               51520     \n",
      "                                                                 \n",
      " dense_65 (Dense)            (None, 10)                3210      \n",
      "                                                                 \n",
      "=================================================================\n",
      "Total params: 180,330\n",
      "Trainable params: 180,330\n",
      "Non-trainable params: 0\n",
      "_________________________________________________________________\n",
      "Model: \"sequential_22\"\n"
     ]
    },
    {
     "name": "stdout",
     "output_type": "stream",
     "text": [
      "_________________________________________________________________\n",
      " Layer (type)                Output Shape              Param #   \n",
      "=================================================================\n",
      " dense_66 (Dense)            (None, 320)               251200    \n",
      "                                                                 \n",
      " dense_67 (Dense)            (None, 20)                6420      \n",
      "                                                                 \n",
      " dense_68 (Dense)            (None, 10)                210       \n",
      "                                                                 \n",
      "=================================================================\n",
      "Total params: 257,830\n",
      "Trainable params: 257,830\n",
      "Non-trainable params: 0\n",
      "_________________________________________________________________\n",
      "Model: \"sequential_23\"\n",
      "_________________________________________________________________\n",
      " Layer (type)                Output Shape              Param #   \n",
      "=================================================================\n",
      " dense_69 (Dense)            (None, 320)               251200    \n",
      "                                                                 \n",
      " dense_70 (Dense)            (None, 40)                12840     \n",
      "                                                                 \n",
      " dense_71 (Dense)            (None, 10)                410       \n",
      "                                                                 \n",
      "=================================================================\n",
      "Total params: 264,450\n",
      "Trainable params: 264,450\n",
      "Non-trainable params: 0\n",
      "_________________________________________________________________\n",
      "Model: \"sequential_24\"\n",
      "_________________________________________________________________\n",
      " Layer (type)                Output Shape              Param #   \n",
      "=================================================================\n",
      " dense_72 (Dense)            (None, 320)               251200    \n",
      "                                                                 \n",
      " dense_73 (Dense)            (None, 80)                25680     \n",
      "                                                                 \n",
      " dense_74 (Dense)            (None, 10)                810       \n",
      "                                                                 \n",
      "=================================================================\n",
      "Total params: 277,690\n",
      "Trainable params: 277,690\n",
      "Non-trainable params: 0\n",
      "_________________________________________________________________\n",
      "Model: \"sequential_25\"\n",
      "_________________________________________________________________\n",
      " Layer (type)                Output Shape              Param #   \n",
      "=================================================================\n",
      " dense_75 (Dense)            (None, 320)               251200    \n",
      "                                                                 \n",
      " dense_76 (Dense)            (None, 160)               51360     \n",
      "                                                                 \n",
      " dense_77 (Dense)            (None, 10)                1610      \n",
      "                                                                 \n",
      "=================================================================\n",
      "Total params: 304,170\n",
      "Trainable params: 304,170\n",
      "Non-trainable params: 0\n",
      "_________________________________________________________________\n",
      "Model: \"sequential_26\"\n",
      "_________________________________________________________________\n",
      " Layer (type)                Output Shape              Param #   \n",
      "=================================================================\n",
      " dense_78 (Dense)            (None, 320)               251200    \n",
      "                                                                 \n",
      " dense_79 (Dense)            (None, 320)               102720    \n",
      "                                                                 \n",
      " dense_80 (Dense)            (None, 10)                3210      \n",
      "                                                                 \n",
      "=================================================================\n",
      "Total params: 357,130\n",
      "Trainable params: 357,130\n",
      "Non-trainable params: 0\n",
      "_________________________________________________________________\n",
      "Wall time: 5min 20s\n"
     ]
    }
   ],
   "source": [
    "%%time\n",
    "\n",
    "res = pd.DataFrame(columns=['n1', 'n2', 'accuracy', 'val_accuracy'])\n",
    "n_list = list(map(lambda x: 10 * (2 ** x), range(1, 6)))\n",
    "\n",
    "for n1 in n_list:\n",
    "    \n",
    "    for n2 in n_list:\n",
    "        \n",
    "        model = Sequential([\n",
    "        Dense(n1, input_shape=(28 * 28,), activation='relu'),\n",
    "        Dense(n2, activation='relu'),\n",
    "        Dense(10, activation='sigmoid')\n",
    "        ])\n",
    "        \n",
    "        model.summary()\n",
    "        model.compile(optimizer='SGD', loss='categorical_crossentropy', metrics=['accuracy'])\n",
    "        history = model.fit(X_train, y_train,\n",
    "                            epochs=15,\n",
    "                            batch_size=1000,\n",
    "                            verbose=0,\n",
    "                            validation_data=(X_test, y_test))\n",
    "        val_accuracy = history.history['val_accuracy'][-1]\n",
    "        accuracy = history.history['accuracy'][-1]\n",
    "        res = res.append({'n1': n1, 'n2': n2, 'val_accuracy': val_accuracy, 'accuracy': accuracy}, ignore_index=True)"
   ]
  },
  {
   "cell_type": "code",
   "execution_count": 23,
   "id": "11ad8d5c",
   "metadata": {
    "scrolled": true
   },
   "outputs": [
    {
     "data": {
      "text/html": [
       "<div>\n",
       "<style scoped>\n",
       "    .dataframe tbody tr th:only-of-type {\n",
       "        vertical-align: middle;\n",
       "    }\n",
       "\n",
       "    .dataframe tbody tr th {\n",
       "        vertical-align: top;\n",
       "    }\n",
       "\n",
       "    .dataframe thead th {\n",
       "        text-align: right;\n",
       "    }\n",
       "</style>\n",
       "<table border=\"1\" class=\"dataframe\">\n",
       "  <thead>\n",
       "    <tr style=\"text-align: right;\">\n",
       "      <th></th>\n",
       "      <th>n1</th>\n",
       "      <th>n2</th>\n",
       "      <th>accuracy</th>\n",
       "      <th>val_accuracy</th>\n",
       "    </tr>\n",
       "  </thead>\n",
       "  <tbody>\n",
       "    <tr>\n",
       "      <th>22</th>\n",
       "      <td>320.0</td>\n",
       "      <td>80.0</td>\n",
       "      <td>0.808283</td>\n",
       "      <td>0.7987</td>\n",
       "    </tr>\n",
       "    <tr>\n",
       "      <th>24</th>\n",
       "      <td>320.0</td>\n",
       "      <td>320.0</td>\n",
       "      <td>0.808533</td>\n",
       "      <td>0.7980</td>\n",
       "    </tr>\n",
       "    <tr>\n",
       "      <th>23</th>\n",
       "      <td>320.0</td>\n",
       "      <td>160.0</td>\n",
       "      <td>0.807633</td>\n",
       "      <td>0.7967</td>\n",
       "    </tr>\n",
       "    <tr>\n",
       "      <th>16</th>\n",
       "      <td>160.0</td>\n",
       "      <td>40.0</td>\n",
       "      <td>0.798800</td>\n",
       "      <td>0.7901</td>\n",
       "    </tr>\n",
       "    <tr>\n",
       "      <th>19</th>\n",
       "      <td>160.0</td>\n",
       "      <td>320.0</td>\n",
       "      <td>0.800333</td>\n",
       "      <td>0.7898</td>\n",
       "    </tr>\n",
       "    <tr>\n",
       "      <th>17</th>\n",
       "      <td>160.0</td>\n",
       "      <td>80.0</td>\n",
       "      <td>0.799450</td>\n",
       "      <td>0.7886</td>\n",
       "    </tr>\n",
       "    <tr>\n",
       "      <th>18</th>\n",
       "      <td>160.0</td>\n",
       "      <td>160.0</td>\n",
       "      <td>0.801400</td>\n",
       "      <td>0.7885</td>\n",
       "    </tr>\n",
       "    <tr>\n",
       "      <th>21</th>\n",
       "      <td>320.0</td>\n",
       "      <td>40.0</td>\n",
       "      <td>0.798733</td>\n",
       "      <td>0.7860</td>\n",
       "    </tr>\n",
       "    <tr>\n",
       "      <th>12</th>\n",
       "      <td>80.0</td>\n",
       "      <td>80.0</td>\n",
       "      <td>0.796333</td>\n",
       "      <td>0.7853</td>\n",
       "    </tr>\n",
       "    <tr>\n",
       "      <th>20</th>\n",
       "      <td>320.0</td>\n",
       "      <td>20.0</td>\n",
       "      <td>0.792467</td>\n",
       "      <td>0.7815</td>\n",
       "    </tr>\n",
       "  </tbody>\n",
       "</table>\n",
       "</div>"
      ],
      "text/plain": [
       "       n1     n2  accuracy  val_accuracy\n",
       "22  320.0   80.0  0.808283        0.7987\n",
       "24  320.0  320.0  0.808533        0.7980\n",
       "23  320.0  160.0  0.807633        0.7967\n",
       "16  160.0   40.0  0.798800        0.7901\n",
       "19  160.0  320.0  0.800333        0.7898\n",
       "17  160.0   80.0  0.799450        0.7886\n",
       "18  160.0  160.0  0.801400        0.7885\n",
       "21  320.0   40.0  0.798733        0.7860\n",
       "12   80.0   80.0  0.796333        0.7853\n",
       "20  320.0   20.0  0.792467        0.7815"
      ]
     },
     "execution_count": 23,
     "metadata": {},
     "output_type": "execute_result"
    }
   ],
   "source": [
    "res.sort_values(by='val_accuracy', ascending=False).head(10)"
   ]
  },
  {
   "cell_type": "markdown",
   "id": "e36612c7",
   "metadata": {},
   "source": [
    "На валидационных данных лучше работает модель с количеством нейронов 160 и 320."
   ]
  },
  {
   "cell_type": "markdown",
   "id": "1ec17409",
   "metadata": {},
   "source": [
    "### Добавим дополнительные слои"
   ]
  },
  {
   "cell_type": "code",
   "execution_count": 24,
   "id": "54c42b91",
   "metadata": {},
   "outputs": [
    {
     "data": {
      "text/plain": [
       "177120"
      ]
     },
     "execution_count": 24,
     "metadata": {},
     "output_type": "execute_result"
    }
   ],
   "source": [
    "# число тренируемых параметров для лучшей двуслойной сети \n",
    "l1 = (28*28) * 160 +160\n",
    "l2 = 320 * 160 +320\n",
    "l1 + l2"
   ]
  },
  {
   "cell_type": "code",
   "execution_count": 25,
   "id": "43578b93",
   "metadata": {
    "scrolled": false
   },
   "outputs": [
    {
     "name": "stdout",
     "output_type": "stream",
     "text": [
      "Model: \"sequential_27\"\n",
      "_________________________________________________________________\n",
      " Layer (type)                Output Shape              Param #   \n",
      "=================================================================\n",
      " dense_81 (Dense)            (None, 180)               141300    \n",
      "                                                                 \n",
      " dense_82 (Dense)            (None, 180)               32580     \n",
      "                                                                 \n",
      " dense_83 (Dense)            (None, 10)                1810      \n",
      "                                                                 \n",
      "=================================================================\n",
      "Total params: 175,690\n",
      "Trainable params: 175,690\n",
      "Non-trainable params: 0\n",
      "_________________________________________________________________\n",
      "Model: \"sequential_28\"\n",
      "_________________________________________________________________\n",
      " Layer (type)                Output Shape              Param #   \n",
      "=================================================================\n",
      " dense_84 (Dense)            (None, 155)               121675    \n",
      "                                                                 \n",
      " dense_85 (Dense)            (None, 155)               24180     \n",
      "                                                                 \n",
      " dense_86 (Dense)            (None, 155)               24180     \n",
      "                                                                 \n",
      " dense_87 (Dense)            (None, 10)                1560      \n",
      "                                                                 \n",
      "=================================================================\n",
      "Total params: 171,595\n",
      "Trainable params: 171,595\n",
      "Non-trainable params: 0\n",
      "_________________________________________________________________\n",
      "Model: \"sequential_29\"\n",
      "_________________________________________________________________\n",
      " Layer (type)                Output Shape              Param #   \n",
      "=================================================================\n",
      " dense_88 (Dense)            (None, 130)               102050    \n",
      "                                                                 \n",
      " dense_89 (Dense)            (None, 130)               17030     \n",
      "                                                                 \n",
      " dense_90 (Dense)            (None, 130)               17030     \n",
      "                                                                 \n",
      " dense_91 (Dense)            (None, 130)               17030     \n",
      "                                                                 \n",
      " dense_92 (Dense)            (None, 130)               17030     \n",
      "                                                                 \n",
      " dense_93 (Dense)            (None, 10)                1310      \n",
      "                                                                 \n",
      "=================================================================\n",
      "Total params: 171,480\n",
      "Trainable params: 171,480\n",
      "Non-trainable params: 0\n",
      "_________________________________________________________________\n",
      "Model: \"sequential_30\"\n",
      "_________________________________________________________________\n",
      " Layer (type)                Output Shape              Param #   \n",
      "=================================================================\n",
      " dense_94 (Dense)            (None, 100)               78500     \n",
      "                                                                 \n",
      " dense_95 (Dense)            (None, 100)               10100     \n",
      "                                                                 \n",
      " dense_96 (Dense)            (None, 100)               10100     \n",
      "                                                                 \n",
      " dense_97 (Dense)            (None, 100)               10100     \n",
      "                                                                 \n",
      " dense_98 (Dense)            (None, 100)               10100     \n",
      "                                                                 \n",
      " dense_99 (Dense)            (None, 100)               10100     \n",
      "                                                                 \n",
      " dense_100 (Dense)           (None, 100)               10100     \n",
      "                                                                 \n",
      " dense_101 (Dense)           (None, 100)               10100     \n",
      "                                                                 \n",
      " dense_102 (Dense)           (None, 100)               10100     \n",
      "                                                                 \n",
      " dense_103 (Dense)           (None, 100)               10100     \n",
      "                                                                 \n",
      " dense_104 (Dense)           (None, 10)                1010      \n",
      "                                                                 \n",
      "=================================================================\n",
      "Total params: 170,410\n",
      "Trainable params: 170,410\n",
      "Non-trainable params: 0\n",
      "_________________________________________________________________\n",
      "Wall time: 2min 12s\n"
     ]
    }
   ],
   "source": [
    "%%time\n",
    "layers = {2:180, 3:155, 5:130, 10:100}\n",
    "res_2 = pd.DataFrame(columns=['n', 'accuracy', 'val_accuracy'])\n",
    "\n",
    "for l in [2, 3, 5, 10]:\n",
    "    n = layers[l]\n",
    "    model = Sequential([Dense(n, input_shape=(28 * 28,), activation='relu')])\n",
    "    \n",
    "    for _ in range(l - 1):\n",
    "        model.add(Dense(n, activation='relu'))\n",
    "    \n",
    "    model.add(Dense(10, activation='sigmoid'))\n",
    "    \n",
    "    model.summary()\n",
    "    model.compile(optimizer='SGD', loss='categorical_crossentropy', metrics=['accuracy'])\n",
    "    history = model.fit(X_train, y_train,\n",
    "                            epochs=25,\n",
    "                            batch_size=1000,\n",
    "                            verbose=0,\n",
    "                            validation_data=(X_test, y_test))\n",
    "    val_accuracy = history.history['val_accuracy'][-1]\n",
    "    accuracy = history.history['accuracy'][-1]\n",
    "    res_2 = res_2.append({'n': n, 'val_accuracy': val_accuracy, 'accuracy': accuracy}, ignore_index=True)"
   ]
  },
  {
   "cell_type": "code",
   "execution_count": 26,
   "id": "f1e3cb47",
   "metadata": {},
   "outputs": [
    {
     "data": {
      "text/html": [
       "<div>\n",
       "<style scoped>\n",
       "    .dataframe tbody tr th:only-of-type {\n",
       "        vertical-align: middle;\n",
       "    }\n",
       "\n",
       "    .dataframe tbody tr th {\n",
       "        vertical-align: top;\n",
       "    }\n",
       "\n",
       "    .dataframe thead th {\n",
       "        text-align: right;\n",
       "    }\n",
       "</style>\n",
       "<table border=\"1\" class=\"dataframe\">\n",
       "  <thead>\n",
       "    <tr style=\"text-align: right;\">\n",
       "      <th></th>\n",
       "      <th>n</th>\n",
       "      <th>accuracy</th>\n",
       "      <th>val_accuracy</th>\n",
       "    </tr>\n",
       "  </thead>\n",
       "  <tbody>\n",
       "    <tr>\n",
       "      <th>0</th>\n",
       "      <td>180.0</td>\n",
       "      <td>0.821433</td>\n",
       "      <td>0.8126</td>\n",
       "    </tr>\n",
       "    <tr>\n",
       "      <th>1</th>\n",
       "      <td>155.0</td>\n",
       "      <td>0.825217</td>\n",
       "      <td>0.8155</td>\n",
       "    </tr>\n",
       "    <tr>\n",
       "      <th>2</th>\n",
       "      <td>130.0</td>\n",
       "      <td>0.815417</td>\n",
       "      <td>0.8110</td>\n",
       "    </tr>\n",
       "    <tr>\n",
       "      <th>3</th>\n",
       "      <td>100.0</td>\n",
       "      <td>0.744033</td>\n",
       "      <td>0.7608</td>\n",
       "    </tr>\n",
       "  </tbody>\n",
       "</table>\n",
       "</div>"
      ],
      "text/plain": [
       "       n  accuracy  val_accuracy\n",
       "0  180.0  0.821433        0.8126\n",
       "1  155.0  0.825217        0.8155\n",
       "2  130.0  0.815417        0.8110\n",
       "3  100.0  0.744033        0.7608"
      ]
     },
     "execution_count": 26,
     "metadata": {},
     "output_type": "execute_result"
    }
   ],
   "source": [
    "res_2"
   ]
  },
  {
   "cell_type": "markdown",
   "id": "d716af26",
   "metadata": {},
   "source": [
    "Очень глубокая сеть показала себя плохо. С остальными можно пробовать работать дальше"
   ]
  },
  {
   "cell_type": "markdown",
   "id": "2d044f71",
   "metadata": {},
   "source": [
    "### 2. Оптимизаторы"
   ]
  },
  {
   "cell_type": "code",
   "execution_count": 27,
   "id": "87b6b3bc",
   "metadata": {
    "scrolled": false
   },
   "outputs": [
    {
     "name": "stdout",
     "output_type": "stream",
     "text": [
      "Оптимизатор: SGD\n",
      "Model: \"sequential_31\"\n",
      "_________________________________________________________________\n",
      " Layer (type)                Output Shape              Param #   \n",
      "=================================================================\n",
      " dense_105 (Dense)           (None, 155)               121675    \n",
      "                                                                 \n",
      " dense_106 (Dense)           (None, 155)               24180     \n",
      "                                                                 \n",
      " dense_107 (Dense)           (None, 155)               24180     \n",
      "                                                                 \n",
      " dense_108 (Dense)           (None, 10)                1560      \n",
      "                                                                 \n",
      "=================================================================\n",
      "Total params: 171,595\n",
      "Trainable params: 171,595\n",
      "Non-trainable params: 0\n",
      "_________________________________________________________________\n",
      "Оптимизатор: RMSprop\n",
      "Model: \"sequential_32\"\n",
      "_________________________________________________________________\n",
      " Layer (type)                Output Shape              Param #   \n",
      "=================================================================\n",
      " dense_109 (Dense)           (None, 155)               121675    \n",
      "                                                                 \n",
      " dense_110 (Dense)           (None, 155)               24180     \n",
      "                                                                 \n",
      " dense_111 (Dense)           (None, 155)               24180     \n",
      "                                                                 \n",
      " dense_112 (Dense)           (None, 10)                1560      \n",
      "                                                                 \n",
      "=================================================================\n",
      "Total params: 171,595\n",
      "Trainable params: 171,595\n",
      "Non-trainable params: 0\n",
      "_________________________________________________________________\n",
      "Оптимизатор: Adam\n",
      "Model: \"sequential_33\"\n",
      "_________________________________________________________________\n",
      " Layer (type)                Output Shape              Param #   \n",
      "=================================================================\n",
      " dense_113 (Dense)           (None, 155)               121675    \n",
      "                                                                 \n",
      " dense_114 (Dense)           (None, 155)               24180     \n",
      "                                                                 \n",
      " dense_115 (Dense)           (None, 155)               24180     \n",
      "                                                                 \n",
      " dense_116 (Dense)           (None, 10)                1560      \n",
      "                                                                 \n",
      "=================================================================\n",
      "Total params: 171,595\n",
      "Trainable params: 171,595\n",
      "Non-trainable params: 0\n",
      "_________________________________________________________________\n"
     ]
    }
   ],
   "source": [
    "res_3 = pd.DataFrame(columns=['optim', 'accuracy', 'val_accuracy'])\n",
    "\n",
    "for optim in enumerate([keras.optimizers.SGD(),\n",
    "                        keras.optimizers.rmsprop.RMSprop(),\n",
    "                        keras.optimizers.adam.Adam()]):\n",
    "    optim_name = optim[1].get_config()['name']\n",
    "    print(f'Оптимизатор: {optim_name}')\n",
    "    \n",
    "    model = Sequential([Dense(155, input_shape=(28 * 28,), activation='relu'),\n",
    "                          Dense(155, activation='relu'),\n",
    "                          Dense(155, activation='relu'),\n",
    "                          Dense(10, activation='sigmoid')\n",
    "                         ])\n",
    "    \n",
    "    model.summary()\n",
    "    model.compile(optimizer=optim_name, loss='categorical_crossentropy', metrics=['accuracy'])\n",
    "    history = model.fit(X_train, y_train,\n",
    "                            epochs=25,\n",
    "                            batch_size=1000,\n",
    "                            verbose=0,\n",
    "                            validation_data=(X_test, y_test))\n",
    "    \n",
    "    val_accuracy = history.history['val_accuracy'][-1]\n",
    "    accuracy = history.history['accuracy'][-1]\n",
    "    res_3 = res_3.append({'optim': optim_name, 'val_accuracy': val_accuracy, 'accuracy': accuracy}, ignore_index=True)"
   ]
  },
  {
   "cell_type": "code",
   "execution_count": 28,
   "id": "b820d06b",
   "metadata": {},
   "outputs": [
    {
     "data": {
      "text/html": [
       "<div>\n",
       "<style scoped>\n",
       "    .dataframe tbody tr th:only-of-type {\n",
       "        vertical-align: middle;\n",
       "    }\n",
       "\n",
       "    .dataframe tbody tr th {\n",
       "        vertical-align: top;\n",
       "    }\n",
       "\n",
       "    .dataframe thead th {\n",
       "        text-align: right;\n",
       "    }\n",
       "</style>\n",
       "<table border=\"1\" class=\"dataframe\">\n",
       "  <thead>\n",
       "    <tr style=\"text-align: right;\">\n",
       "      <th></th>\n",
       "      <th>optim</th>\n",
       "      <th>accuracy</th>\n",
       "      <th>val_accuracy</th>\n",
       "    </tr>\n",
       "  </thead>\n",
       "  <tbody>\n",
       "    <tr>\n",
       "      <th>0</th>\n",
       "      <td>SGD</td>\n",
       "      <td>0.826883</td>\n",
       "      <td>0.8160</td>\n",
       "    </tr>\n",
       "    <tr>\n",
       "      <th>1</th>\n",
       "      <td>RMSprop</td>\n",
       "      <td>0.911733</td>\n",
       "      <td>0.8856</td>\n",
       "    </tr>\n",
       "    <tr>\n",
       "      <th>2</th>\n",
       "      <td>Adam</td>\n",
       "      <td>0.930717</td>\n",
       "      <td>0.8882</td>\n",
       "    </tr>\n",
       "  </tbody>\n",
       "</table>\n",
       "</div>"
      ],
      "text/plain": [
       "     optim  accuracy  val_accuracy\n",
       "0      SGD  0.826883        0.8160\n",
       "1  RMSprop  0.911733        0.8856\n",
       "2     Adam  0.930717        0.8882"
      ]
     },
     "execution_count": 28,
     "metadata": {},
     "output_type": "execute_result"
    }
   ],
   "source": [
    "res_3"
   ]
  },
  {
   "cell_type": "markdown",
   "id": "d819bac6",
   "metadata": {},
   "source": [
    "Самый сильный рост метрики получился при смене оптимизаторов. Количество эпох тоже дает хороший прирост. Размеры сети и батча меняют результат, но спрогнозировать изменения обычно не получается, нужны эксперименты. Часто сети из большого числа слоев показывают себя хуже."
   ]
  },
  {
   "cell_type": "markdown",
   "id": "9f4ff416",
   "metadata": {},
   "source": [
    "### 3. Матрица ошибок по классам"
   ]
  },
  {
   "cell_type": "code",
   "execution_count": 29,
   "id": "79642c9b",
   "metadata": {},
   "outputs": [
    {
     "name": "stdout",
     "output_type": "stream",
     "text": [
      "Model: \"sequential_34\"\n",
      "_________________________________________________________________\n",
      " Layer (type)                Output Shape              Param #   \n",
      "=================================================================\n",
      " dense_117 (Dense)           (None, 155)               121675    \n",
      "                                                                 \n",
      " dense_118 (Dense)           (None, 155)               24180     \n",
      "                                                                 \n",
      " dense_119 (Dense)           (None, 155)               24180     \n",
      "                                                                 \n",
      " dense_120 (Dense)           (None, 10)                1560      \n",
      "                                                                 \n",
      "=================================================================\n",
      "Total params: 171,595\n",
      "Trainable params: 171,595\n",
      "Non-trainable params: 0\n",
      "_________________________________________________________________\n",
      "313/313 [==============================] - 1s 2ms/step - loss: 0.3937 - accuracy: 0.8902\n"
     ]
    },
    {
     "data": {
      "text/plain": [
       "(0.3937349319458008, 0.8902000188827515)"
      ]
     },
     "execution_count": 29,
     "metadata": {},
     "output_type": "execute_result"
    }
   ],
   "source": [
    "model = Sequential([Dense(155, input_shape=(28 * 28,), activation='relu'),\n",
    "                          Dense(155, activation='relu'),\n",
    "                          Dense(155, activation='relu'),\n",
    "                          Dense(10, activation='sigmoid')\n",
    "                         ])\n",
    "    \n",
    "model.summary()\n",
    "model.compile(optimizer='Adam', loss='categorical_crossentropy', metrics=['accuracy'])\n",
    "history = model.fit(X_train, y_train,\n",
    "                            epochs=45,\n",
    "                            batch_size=1000,\n",
    "                            verbose=0,\n",
    "                            validation_data=(X_test, y_test))\n",
    "    \n",
    "loss, metric = model.evaluate(X_test, y_test)\n",
    "loss, metric"
   ]
  },
  {
   "cell_type": "code",
   "execution_count": 31,
   "id": "bfbfc7cc",
   "metadata": {},
   "outputs": [
    {
     "name": "stdout",
     "output_type": "stream",
     "text": [
      "313/313 [==============================] - 1s 2ms/step\n"
     ]
    }
   ],
   "source": [
    "y_pred = model.predict(X_test)\n",
    "y_pred_class = np.argmax(y_pred, axis=1)"
   ]
  },
  {
   "cell_type": "code",
   "execution_count": 33,
   "id": "5dd72a9e",
   "metadata": {
    "scrolled": false
   },
   "outputs": [
    {
     "data": {
      "image/png": "[encoded data removed]",
      "text/plain": [
       "<Figure size 720x720 with 2 Axes>"
      ]
     },
     "metadata": {
      "needs_background": "light"
     },
     "output_type": "display_data"
    }
   ],
   "source": [
    "class_names = ['T-shirt/top', 'Trouser', 'Pullover', 'Dress', 'Coat',\n",
    "               'Sandal', 'Shirt', 'Sneaker', 'Bag', 'Ankle boot']\n",
    "disp = ConfusionMatrixDisplay(confusion_matrix=confusion_matrix(test_labels, y_pred_class), display_labels=class_names)\n",
    "\n",
    "fig, ax = plt.subplots(figsize=(10, 10))\n",
    "disp.plot(values_format='.3g', ax=ax)\n",
    "plt.xticks(rotation=70)\n",
    "plt.show();"
   ]
  },
  {
   "cell_type": "markdown",
   "id": "05569eeb",
   "metadata": {},
   "source": [
    "Модель путает T-Shirt/top и Shirt, а еще Pullover и Coat. Но хорошо распознает классы Ankle boot и Trouser, например."
   ]
  }
 ],
 "metadata": {
  "kernelspec": {
   "display_name": "Python 3 (ipykernel)",
   "language": "python",
   "name": "python3"
  },
  "language_info": {
   "codemirror_mode": {
    "name": "ipython",
    "version": 3
   },
   "file_extension": ".py",
   "mimetype": "text/x-python",
   "name": "python",
   "nbconvert_exporter": "python",
   "pygments_lexer": "ipython3",
   "version": "3.9.7"
  }
 },
 "nbformat": 4,
 "nbformat_minor": 5
}
