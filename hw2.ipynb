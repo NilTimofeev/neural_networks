{
 "cells": [
  {
   "cell_type": "markdown",
   "id": "2396aae2",
   "metadata": {},
   "source": [
    "1. Опишите какой результат нейросети получен в зависимости от:\n",
    "- числа нейронов в слое для друхслойной сети\n",
    "- числа слоев (2, 3, 5, 10) при близких размерах сети (число тренируемых параметров)\n",
    "- фиксируйте для треинровочноог и тестового набора метрики accuracy\n",
    "2. Проверьте работыу разных оптимизаторов для одной из моделей\n",
    "3. Что помогло вам улучшить качество нейросети на тестовом наборе?\n",
    "4. Для одного варианта сети сформируйте матрицу ошибок по классам. Оцените качетсво модели по каждому классу отдельно (точностьб полнота)"
   ]
  },
  {
   "cell_type": "code",
   "execution_count": 29,
   "id": "bdb16c33",
   "metadata": {},
   "outputs": [],
   "source": [
    "import numpy as np\n",
    "import pandas as pd\n",
    "import matplotlib.pyplot as plt\n",
    "import seaborn as sn\n",
    "import tensorflow as tf\n",
    "import itertools\n",
    "from tensorflow import keras\n",
    "from keras.models import Sequential, load_model\n",
    "from keras.layers import Dense\n",
    "from keras.utils import to_categorical\n",
    "from sklearn.metrics import confusion_matrix, ConfusionMatrixDisplay\n",
    "\n",
    "from keras.datasets import fashion_mnist\n",
    "\n",
    "tf.random.set_seed(1)"
   ]
  },
  {
   "cell_type": "code",
   "execution_count": 2,
   "id": "29be2f19",
   "metadata": {},
   "outputs": [
    {
     "data": {
      "text/plain": [
       "(0, 255, (60000, 28, 28), (10000, 28, 28))"
      ]
     },
     "execution_count": 2,
     "metadata": {},
     "output_type": "execute_result"
    }
   ],
   "source": [
    "(train_images, train_labels), (test_images, test_labels) = fashion_mnist.load_data()\n",
    "train_images.min(), train_images.max(), train_images.shape, test_images.shape"
   ]
  },
  {
   "cell_type": "code",
   "execution_count": 3,
   "id": "86a42eb9",
   "metadata": {},
   "outputs": [
    {
     "data": {
      "text/plain": [
       "array([9, 2, 1, ..., 8, 1, 5], dtype=uint8)"
      ]
     },
     "execution_count": 3,
     "metadata": {},
     "output_type": "execute_result"
    }
   ],
   "source": [
    "test_labels"
   ]
  },
  {
   "cell_type": "code",
   "execution_count": 4,
   "id": "800b6407",
   "metadata": {
    "scrolled": true
   },
   "outputs": [
    {
     "name": "stdout",
     "output_type": "stream",
     "text": [
      "Label is 2\n"
     ]
    },
    {
     "data": {
      "image/png": "[encoded data removed]",
      "text/plain": [
       "<Figure size 432x288 with 1 Axes>"
      ]
     },
     "metadata": {
      "needs_background": "light"
     },
     "output_type": "display_data"
    }
   ],
   "source": [
    "ind = np.random.randint(0, train_images.shape[0])\n",
    "plt.imshow(train_images[ind], cmap='gray')\n",
    "print(f'Label is {train_labels[ind]}')"
   ]
  },
  {
   "cell_type": "code",
   "execution_count": 5,
   "id": "d0275537",
   "metadata": {},
   "outputs": [
    {
     "data": {
      "text/plain": [
       "(0.0, 1.0)"
      ]
     },
     "execution_count": 5,
     "metadata": {},
     "output_type": "execute_result"
    }
   ],
   "source": [
    "#нормализация данных\n",
    "train_images = train_images / 255.0\n",
    "test_images = test_images / 255.0\n",
    "train_images.min(), train_images.max()"
   ]
  },
  {
   "cell_type": "code",
   "execution_count": 6,
   "id": "445922da",
   "metadata": {},
   "outputs": [
    {
     "data": {
      "text/plain": [
       "((60000, 784), (60000, 784), 0.0, 1.0)"
      ]
     },
     "execution_count": 6,
     "metadata": {},
     "output_type": "execute_result"
    }
   ],
   "source": [
    "# Вытягивание признаков\n",
    "X_train = train_images.reshape((-1, 28 * 28))\n",
    "X_test = test_images.reshape((-1, 28 * 28))\n",
    "X_train.shape, X_train.shape, X_train.min(), X_train.max()"
   ]
  },
  {
   "cell_type": "code",
   "execution_count": 7,
   "id": "f744131e",
   "metadata": {
    "scrolled": true
   },
   "outputs": [
    {
     "data": {
      "text/plain": [
       "(array([[0., 0., 0., 0., 0., 0., 0., 0., 0., 1.],\n",
       "        [1., 0., 0., 0., 0., 0., 0., 0., 0., 0.]], dtype=float32),\n",
       " array([[0., 0., 0., 0., 0., 0., 0., 0., 0., 1.],\n",
       "        [0., 0., 1., 0., 0., 0., 0., 0., 0., 0.]], dtype=float32))"
      ]
     },
     "execution_count": 7,
     "metadata": {},
     "output_type": "execute_result"
    }
   ],
   "source": [
    "y_train = to_categorical(train_labels)\n",
    "y_test = to_categorical(test_labels)\n",
    "\n",
    "y_train[:2], y_test[:2]"
   ]
  },
  {
   "cell_type": "code",
   "execution_count": 8,
   "id": "a6b99dfd",
   "metadata": {},
   "outputs": [
    {
     "name": "stdout",
     "output_type": "stream",
     "text": [
      "Model: \"sequential\"\n",
      "_________________________________________________________________\n",
      " Layer (type)                Output Shape              Param #   \n",
      "=================================================================\n",
      " dense (Dense)               (None, 64)                50240     \n",
      "                                                                 \n",
      " dense_1 (Dense)             (None, 32)                2080      \n",
      "                                                                 \n",
      " dense_2 (Dense)             (None, 10)                330       \n",
      "                                                                 \n",
      "=================================================================\n",
      "Total params: 52,650\n",
      "Trainable params: 52,650\n",
      "Non-trainable params: 0\n",
      "_________________________________________________________________\n"
     ]
    }
   ],
   "source": [
    "model = Sequential()\n",
    "\n",
    "model.add(Dense(64, input_shape=(28 * 28,), activation=\"relu\"))\n",
    "model.add(Dense(32, activation='relu'))\n",
    "model.add(Dense(10, activation='sigmoid'))\n",
    "\n",
    "model.summary()"
   ]
  },
  {
   "cell_type": "code",
   "execution_count": 9,
   "id": "78db4526",
   "metadata": {},
   "outputs": [
    {
     "name": "stdout",
     "output_type": "stream",
     "text": [
      "Model: \"sequential_1\"\n",
      "_________________________________________________________________\n",
      " Layer (type)                Output Shape              Param #   \n",
      "=================================================================\n",
      " dense_3 (Dense)             (None, 64)                50240     \n",
      "                                                                 \n",
      " dense_4 (Dense)             (None, 32)                2080      \n",
      "                                                                 \n",
      " dense_5 (Dense)             (None, 10)                330       \n",
      "                                                                 \n",
      "=================================================================\n",
      "Total params: 52,650\n",
      "Trainable params: 52,650\n",
      "Non-trainable params: 0\n",
      "_________________________________________________________________\n"
     ]
    }
   ],
   "source": [
    "model = Sequential([\n",
    "    Dense(64, input_shape=(28 * 28,), activation=\"relu\"),\n",
    "    Dense(32, activation='relu'),\n",
    "    Dense(10, activation='sigmoid')\n",
    "])\n",
    "\n",
    "model.summary()"
   ]
  },
  {
   "cell_type": "code",
   "execution_count": 10,
   "id": "680f904a",
   "metadata": {},
   "outputs": [
    {
     "data": {
      "text/plain": [
       "{'name': 'sequential_1',\n",
       " 'layers': [{'class_name': 'InputLayer',\n",
       "   'config': {'batch_input_shape': (None, 784),\n",
       "    'dtype': 'float32',\n",
       "    'sparse': False,\n",
       "    'ragged': False,\n",
       "    'name': 'dense_3_input'}},\n",
       "  {'class_name': 'Dense',\n",
       "   'config': {'name': 'dense_3',\n",
       "    'trainable': True,\n",
       "    'dtype': 'float32',\n",
       "    'batch_input_shape': (None, 784),\n",
       "    'units': 64,\n",
       "    'activation': 'relu',\n",
       "    'use_bias': True,\n",
       "    'kernel_initializer': {'class_name': 'GlorotUniform',\n",
       "     'config': {'seed': None}},\n",
       "    'bias_initializer': {'class_name': 'Zeros', 'config': {}},\n",
       "    'kernel_regularizer': None,\n",
       "    'bias_regularizer': None,\n",
       "    'activity_regularizer': None,\n",
       "    'kernel_constraint': None,\n",
       "    'bias_constraint': None}},\n",
       "  {'class_name': 'Dense',\n",
       "   'config': {'name': 'dense_4',\n",
       "    'trainable': True,\n",
       "    'dtype': 'float32',\n",
       "    'units': 32,\n",
       "    'activation': 'relu',\n",
       "    'use_bias': True,\n",
       "    'kernel_initializer': {'class_name': 'GlorotUniform',\n",
       "     'config': {'seed': None}},\n",
       "    'bias_initializer': {'class_name': 'Zeros', 'config': {}},\n",
       "    'kernel_regularizer': None,\n",
       "    'bias_regularizer': None,\n",
       "    'activity_regularizer': None,\n",
       "    'kernel_constraint': None,\n",
       "    'bias_constraint': None}},\n",
       "  {'class_name': 'Dense',\n",
       "   'config': {'name': 'dense_5',\n",
       "    'trainable': True,\n",
       "    'dtype': 'float32',\n",
       "    'units': 10,\n",
       "    'activation': 'sigmoid',\n",
       "    'use_bias': True,\n",
       "    'kernel_initializer': {'class_name': 'GlorotUniform',\n",
       "     'config': {'seed': None}},\n",
       "    'bias_initializer': {'class_name': 'Zeros', 'config': {}},\n",
       "    'kernel_regularizer': None,\n",
       "    'bias_regularizer': None,\n",
       "    'activity_regularizer': None,\n",
       "    'kernel_constraint': None,\n",
       "    'bias_constraint': None}}]}"
      ]
     },
     "execution_count": 10,
     "metadata": {},
     "output_type": "execute_result"
    }
   ],
   "source": [
    "config = model.get_config()\n",
    "config"
   ]
  },
  {
   "cell_type": "code",
   "execution_count": 11,
   "id": "69781845",
   "metadata": {},
   "outputs": [],
   "source": [
    "# Compile the model.\n",
    "model.compile(optimizer='adam', loss='categorical_crossentropy', metrics=['accuracy'])"
   ]
  },
  {
   "cell_type": "code",
   "execution_count": 12,
   "id": "004fd306",
   "metadata": {},
   "outputs": [
    {
     "name": "stdout",
     "output_type": "stream",
     "text": [
      "Epoch 1/5\n",
      "235/235 [==============================] - 2s 5ms/step - loss: 0.6901 - accuracy: 0.7650 - val_loss: 0.5283 - val_accuracy: 0.8110\n",
      "Epoch 2/5\n",
      "235/235 [==============================] - 1s 4ms/step - loss: 0.4440 - accuracy: 0.8480 - val_loss: 0.4572 - val_accuracy: 0.8407\n",
      "Epoch 3/5\n",
      "235/235 [==============================] - 1s 4ms/step - loss: 0.4042 - accuracy: 0.8582 - val_loss: 0.4480 - val_accuracy: 0.8414\n",
      "Epoch 4/5\n",
      "235/235 [==============================] - 1s 3ms/step - loss: 0.3813 - accuracy: 0.8665 - val_loss: 0.4201 - val_accuracy: 0.8529\n",
      "Epoch 5/5\n",
      "235/235 [==============================] - 1s 3ms/step - loss: 0.3576 - accuracy: 0.8743 - val_loss: 0.3886 - val_accuracy: 0.8645\n"
     ]
    }
   ],
   "source": [
    "history = model.fit(X_train, y_train,\n",
    "                   epochs=5,\n",
    "                   batch_size=256,\n",
    "                   verbose=1,\n",
    "                   validation_data=(X_test, y_test))"
   ]
  },
  {
   "cell_type": "code",
   "execution_count": 13,
   "id": "89a6c3af",
   "metadata": {},
   "outputs": [
    {
     "name": "stdout",
     "output_type": "stream",
     "text": [
      "Epoch 1/5\n",
      "48/48 [==============================] - 1s 13ms/step - loss: 0.3336 - accuracy: 0.8827 - val_loss: 0.3329 - val_accuracy: 0.8817\n",
      "Epoch 2/5\n",
      "48/48 [==============================] - 1s 11ms/step - loss: 0.3263 - accuracy: 0.8849 - val_loss: 0.3281 - val_accuracy: 0.8837\n",
      "Epoch 3/5\n",
      "48/48 [==============================] - 1s 12ms/step - loss: 0.3225 - accuracy: 0.8870 - val_loss: 0.3278 - val_accuracy: 0.8831\n",
      "Epoch 4/5\n",
      "48/48 [==============================] - 1s 11ms/step - loss: 0.3182 - accuracy: 0.8876 - val_loss: 0.3243 - val_accuracy: 0.8864\n",
      "Epoch 5/5\n",
      "48/48 [==============================] - 1s 12ms/step - loss: 0.3165 - accuracy: 0.8873 - val_loss: 0.3237 - val_accuracy: 0.8836\n"
     ]
    }
   ],
   "source": [
    "history = model.fit(X_train, y_train,\n",
    "                   epochs=5,\n",
    "                   batch_size=1000,\n",
    "                   verbose=1,\n",
    "                   validation_split=0.2)"
   ]
  },
  {
   "cell_type": "code",
   "execution_count": 14,
   "id": "f028effa",
   "metadata": {},
   "outputs": [
    {
     "data": {
      "text/plain": [
       "{'loss': [0.3335718512535095,\n",
       "  0.3263080418109894,\n",
       "  0.3224976658821106,\n",
       "  0.3182010352611542,\n",
       "  0.31647413969039917],\n",
       " 'accuracy': [0.8826666474342346,\n",
       "  0.8849166631698608,\n",
       "  0.8870208263397217,\n",
       "  0.887624979019165,\n",
       "  0.8873124718666077],\n",
       " 'val_loss': [0.3329024612903595,\n",
       "  0.3281230330467224,\n",
       "  0.32778698205947876,\n",
       "  0.32431912422180176,\n",
       "  0.3237166106700897],\n",
       " 'val_accuracy': [0.8817499876022339,\n",
       "  0.8836666941642761,\n",
       "  0.8830833435058594,\n",
       "  0.8864166736602783,\n",
       "  0.8835833072662354]}"
      ]
     },
     "execution_count": 14,
     "metadata": {},
     "output_type": "execute_result"
    }
   ],
   "source": [
    "history.history"
   ]
  },
  {
   "cell_type": "code",
   "execution_count": 15,
   "id": "97610240",
   "metadata": {},
   "outputs": [
    {
     "data": {
      "text/plain": [
       "<matplotlib.legend.Legend at 0x202aa8c4fd0>"
      ]
     },
     "execution_count": 15,
     "metadata": {},
     "output_type": "execute_result"
    },
    {
     "data": {
      "image/png": "[encoded data removed]",
      "text/plain": [
       "<Figure size 432x288 with 1 Axes>"
      ]
     },
     "metadata": {
      "needs_background": "light"
     },
     "output_type": "display_data"
    }
   ],
   "source": [
    "train_acc = history.history['accuracy']\n",
    "val_acc = history.history['val_accuracy']\n",
    "\n",
    "plt.plot(train_acc, label='train')\n",
    "plt.plot(val_acc, label='val')\n",
    "plt.legend()"
   ]
  },
  {
   "cell_type": "code",
   "execution_count": 16,
   "id": "e16c4186",
   "metadata": {},
   "outputs": [
    {
     "name": "stdout",
     "output_type": "stream",
     "text": [
      "313/313 [==============================] - 0s 1ms/step - loss: 0.3727 - accuracy: 0.8679\n"
     ]
    },
    {
     "data": {
      "text/plain": [
       "(0.3727499842643738, 0.867900013923645)"
      ]
     },
     "execution_count": 16,
     "metadata": {},
     "output_type": "execute_result"
    }
   ],
   "source": [
    "loss, metric = model.evaluate(X_test, y_test)\n",
    "loss, metric"
   ]
  },
  {
   "cell_type": "code",
   "execution_count": 17,
   "id": "3d697cd9",
   "metadata": {},
   "outputs": [
    {
     "name": "stdout",
     "output_type": "stream",
     "text": [
      "1/1 [==============================] - 0s 115ms/step\n"
     ]
    },
    {
     "data": {
      "text/plain": [
       "array([[9.8779434e-01, 1.5999605e-01, 9.9999911e-01, 2.3860127e-01,\n",
       "        9.9968338e-01, 1.6253001e-04, 9.9968433e-01, 3.0044074e-08,\n",
       "        9.4089651e-01, 4.8088233e-10]], dtype=float32)"
      ]
     },
     "execution_count": 17,
     "metadata": {},
     "output_type": "execute_result"
    }
   ],
   "source": [
    "prediction = model.predict(X_test[1][None])\n",
    "prediction"
   ]
  },
  {
   "cell_type": "code",
   "execution_count": 18,
   "id": "9a7cf290",
   "metadata": {},
   "outputs": [
    {
     "data": {
      "text/plain": [
       "array([2], dtype=int64)"
      ]
     },
     "execution_count": 18,
     "metadata": {},
     "output_type": "execute_result"
    }
   ],
   "source": [
    "pred_labels = np.argmax(prediction, axis=1)\n",
    "pred_labels"
   ]
  },
  {
   "cell_type": "code",
   "execution_count": 19,
   "id": "752b77a9",
   "metadata": {},
   "outputs": [
    {
     "data": {
      "text/plain": [
       "array([9, 2, 1], dtype=uint8)"
      ]
     },
     "execution_count": 19,
     "metadata": {},
     "output_type": "execute_result"
    }
   ],
   "source": [
    "test_labels[:3]"
   ]
  },
  {
   "cell_type": "code",
   "execution_count": 20,
   "id": "47a2cbb4",
   "metadata": {},
   "outputs": [],
   "source": [
    "model.save_weights('model_weights.h5')\n",
    "\n",
    "model.save('model.h5')"
   ]
  },
  {
   "cell_type": "code",
   "execution_count": 21,
   "id": "8f0bf8a8",
   "metadata": {},
   "outputs": [],
   "source": [
    "model = load_model('model.h5')"
   ]
  },
  {
   "cell_type": "markdown",
   "id": "71abdc78",
   "metadata": {},
   "source": [
    "### 1. Изменение числа нейронов и слоев"
   ]
  },
  {
   "cell_type": "code",
   "execution_count": 22,
   "id": "2d328f54",
   "metadata": {
    "scrolled": false
   },
   "outputs": [
    {
     "name": "stdout",
     "output_type": "stream",
     "text": [
      "Model: \"sequential_2\"\n",
      "_________________________________________________________________\n",
      " Layer (type)                Output Shape              Param #   \n",
      "=================================================================\n",
      " dense_6 (Dense)             (None, 20)                15700     \n",
      "                                                                 \n",
      " dense_7 (Dense)             (None, 20)                420       \n",
      "                                                                 \n",
      " dense_8 (Dense)             (None, 10)                210       \n",
      "                                                                 \n",
      "=================================================================\n",
      "Total params: 16,330\n",
      "Trainable params: 16,330\n",
      "Non-trainable params: 0\n",
      "_________________________________________________________________\n",
      "Model: \"sequential_3\"\n",
      "_________________________________________________________________\n",
      " Layer (type)                Output Shape              Param #   \n",
      "=================================================================\n",
      " dense_9 (Dense)             (None, 20)                15700     \n",
      "                                                                 \n",
      " dense_10 (Dense)            (None, 40)                840       \n",
      "                                                                 \n",
      " dense_11 (Dense)            (None, 10)                410       \n",
      "                                                                 \n",
      "=================================================================\n",
      "Total params: 16,950\n",
      "Trainable params: 16,950\n",
      "Non-trainable params: 0\n",
      "_________________________________________________________________\n",
      "Model: \"sequential_4\"\n",
      "_________________________________________________________________\n",
      " Layer (type)                Output Shape              Param #   \n",
      "=================================================================\n",
      " dense_12 (Dense)            (None, 20)                15700     \n",
      "                                                                 \n",
      " dense_13 (Dense)            (None, 80)                1680      \n",
      "                                                                 \n",
      " dense_14 (Dense)            (None, 10)                810       \n",
      "                                                                 \n",
      "=================================================================\n",
      "Total params: 18,190\n",
      "Trainable params: 18,190\n",
      "Non-trainable params: 0\n",
      "_________________________________________________________________\n",
      "Model: \"sequential_5\"\n",
      "_________________________________________________________________\n",
      " Layer (type)                Output Shape              Param #   \n",
      "=================================================================\n",
      " dense_15 (Dense)            (None, 20)                15700     \n",
      "                                                                 \n",
      " dense_16 (Dense)            (None, 160)               3360      \n",
      "                                                                 \n",
      " dense_17 (Dense)            (None, 10)                1610      \n",
      "                                                                 \n",
      "=================================================================\n",
      "Total params: 20,670\n",
      "Trainable params: 20,670\n",
      "Non-trainable params: 0\n",
      "_________________________________________________________________\n",
      "Model: \"sequential_6\"\n",
      "_________________________________________________________________\n",
      " Layer (type)                Output Shape              Param #   \n",
      "=================================================================\n",
      " dense_18 (Dense)            (None, 20)                15700     \n",
      "                                                                 \n",
      " dense_19 (Dense)            (None, 320)               6720      \n",
      "                                                                 \n",
      " dense_20 (Dense)            (None, 10)                3210      \n",
      "                                                                 \n",
      "=================================================================\n",
      "Total params: 25,630\n",
      "Trainable params: 25,630\n",
      "Non-trainable params: 0\n",
      "_________________________________________________________________\n",
      "Model: \"sequential_7\"\n",
      "_________________________________________________________________\n",
      " Layer (type)                Output Shape              Param #   \n",
      "=================================================================\n",
      " dense_21 (Dense)            (None, 40)                31400     \n",
      "                                                                 \n",
      " dense_22 (Dense)            (None, 20)                820       \n",
      "                                                                 \n",
      " dense_23 (Dense)            (None, 10)                210       \n",
      "                                                                 \n",
      "=================================================================\n",
      "Total params: 32,430\n",
      "Trainable params: 32,430\n",
      "Non-trainable params: 0\n",
      "_________________________________________________________________\n",
      "Model: \"sequential_8\"\n",
      "_________________________________________________________________\n",
      " Layer (type)                Output Shape              Param #   \n",
      "=================================================================\n",
      " dense_24 (Dense)            (None, 40)                31400     \n",
      "                                                                 \n",
      " dense_25 (Dense)            (None, 40)                1640      \n",
      "                                                                 \n",
      " dense_26 (Dense)            (None, 10)                410       \n",
      "                                                                 \n",
      "=================================================================\n",
      "Total params: 33,450\n",
      "Trainable params: 33,450\n",
      "Non-trainable params: 0\n",
      "_________________________________________________________________\n",
      "Model: \"sequential_9\"\n",
      "_________________________________________________________________\n",
      " Layer (type)                Output Shape              Param #   \n",
      "=================================================================\n",
      " dense_27 (Dense)            (None, 40)                31400     \n",
      "                                                                 \n",
      " dense_28 (Dense)            (None, 80)                3280      \n",
      "                                                                 \n",
      " dense_29 (Dense)            (None, 10)                810       \n",
      "                                                                 \n",
      "=================================================================\n",
      "Total params: 35,490\n",
      "Trainable params: 35,490\n",
      "Non-trainable params: 0\n",
      "_________________________________________________________________\n",
      "Model: \"sequential_10\"\n",
      "_________________________________________________________________\n",
      " Layer (type)                Output Shape              Param #   \n",
      "=================================================================\n",
      " dense_30 (Dense)            (None, 40)                31400     \n",
      "                                                                 \n",
      " dense_31 (Dense)            (None, 160)               6560      \n",
      "                                                                 \n",
      " dense_32 (Dense)            (None, 10)                1610      \n",
      "                                                                 \n",
      "=================================================================\n",
      "Total params: 39,570\n",
      "Trainable params: 39,570\n",
      "Non-trainable params: 0\n",
      "_________________________________________________________________\n",
      "Model: \"sequential_11\"\n",
      "_________________________________________________________________\n",
      " Layer (type)                Output Shape              Param #   \n",
      "=================================================================\n",
      " dense_33 (Dense)            (None, 40)                31400     \n",
      "                                                                 \n",
      " dense_34 (Dense)            (None, 320)               13120     \n",
      "                                                                 \n",
      " dense_35 (Dense)            (None, 10)                3210      \n",
      "                                                                 \n",
      "=================================================================\n",
      "Total params: 47,730\n",
      "Trainable params: 47,730\n",
      "Non-trainable params: 0\n",
      "_________________________________________________________________\n",
      "Model: \"sequential_12\"\n"
     ]
    },
    {
     "name": "stdout",
     "output_type": "stream",
     "text": [
      "_________________________________________________________________\n",
      " Layer (type)                Output Shape              Param #   \n",
      "=================================================================\n",
      " dense_36 (Dense)            (None, 80)                62800     \n",
      "                                                                 \n",
      " dense_37 (Dense)            (None, 20)                1620      \n",
      "                                                                 \n",
      " dense_38 (Dense)            (None, 10)                210       \n",
      "                                                                 \n",
      "=================================================================\n",
      "Total params: 64,630\n",
      "Trainable params: 64,630\n",
      "Non-trainable params: 0\n",
      "_________________________________________________________________\n",
      "Model: \"sequential_13\"\n",
      "_________________________________________________________________\n",
      " Layer (type)                Output Shape              Param #   \n",
      "=================================================================\n",
      " dense_39 (Dense)            (None, 80)                62800     \n",
      "                                                                 \n",
      " dense_40 (Dense)            (None, 40)                3240      \n",
      "                                                                 \n",
      " dense_41 (Dense)            (None, 10)                410       \n",
      "                                                                 \n",
      "=================================================================\n",
      "Total params: 66,450\n",
      "Trainable params: 66,450\n",
      "Non-trainable params: 0\n",
      "_________________________________________________________________\n",
      "Model: \"sequential_14\"\n",
      "_________________________________________________________________\n",
      " Layer (type)                Output Shape              Param #   \n",
      "=================================================================\n",
      " dense_42 (Dense)            (None, 80)                62800     \n",
      "                                                                 \n",
      " dense_43 (Dense)            (None, 80)                6480      \n",
      "                                                                 \n",
      " dense_44 (Dense)            (None, 10)                810       \n",
      "                                                                 \n",
      "=================================================================\n",
      "Total params: 70,090\n",
      "Trainable params: 70,090\n",
      "Non-trainable params: 0\n",
      "_________________________________________________________________\n",
      "Model: \"sequential_15\"\n",
      "_________________________________________________________________\n",
      " Layer (type)                Output Shape              Param #   \n",
      "=================================================================\n",
      " dense_45 (Dense)            (None, 80)                62800     \n",
      "                                                                 \n",
      " dense_46 (Dense)            (None, 160)               12960     \n",
      "                                                                 \n",
      " dense_47 (Dense)            (None, 10)                1610      \n",
      "                                                                 \n",
      "=================================================================\n",
      "Total params: 77,370\n",
      "Trainable params: 77,370\n",
      "Non-trainable params: 0\n",
      "_________________________________________________________________\n",
      "Model: \"sequential_16\"\n",
      "_________________________________________________________________\n",
      " Layer (type)                Output Shape              Param #   \n",
      "=================================================================\n",
      " dense_48 (Dense)            (None, 80)                62800     \n",
      "                                                                 \n",
      " dense_49 (Dense)            (None, 320)               25920     \n",
      "                                                                 \n",
      " dense_50 (Dense)            (None, 10)                3210      \n",
      "                                                                 \n",
      "=================================================================\n",
      "Total params: 91,930\n",
      "Trainable params: 91,930\n",
      "Non-trainable params: 0\n",
      "_________________________________________________________________\n",
      "Model: \"sequential_17\"\n",
      "_________________________________________________________________\n",
      " Layer (type)                Output Shape              Param #   \n",
      "=================================================================\n",
      " dense_51 (Dense)            (None, 160)               125600    \n",
      "                                                                 \n",
      " dense_52 (Dense)            (None, 20)                3220      \n",
      "                                                                 \n",
      " dense_53 (Dense)            (None, 10)                210       \n",
      "                                                                 \n",
      "=================================================================\n",
      "Total params: 129,030\n",
      "Trainable params: 129,030\n",
      "Non-trainable params: 0\n",
      "_________________________________________________________________\n",
      "Model: \"sequential_18\"\n",
      "_________________________________________________________________\n",
      " Layer (type)                Output Shape              Param #   \n",
      "=================================================================\n",
      " dense_54 (Dense)            (None, 160)               125600    \n",
      "                                                                 \n",
      " dense_55 (Dense)            (None, 40)                6440      \n",
      "                                                                 \n",
      " dense_56 (Dense)            (None, 10)                410       \n",
      "                                                                 \n",
      "=================================================================\n",
      "Total params: 132,450\n",
      "Trainable params: 132,450\n",
      "Non-trainable params: 0\n",
      "_________________________________________________________________\n",
      "Model: \"sequential_19\"\n",
      "_________________________________________________________________\n",
      " Layer (type)                Output Shape              Param #   \n",
      "=================================================================\n",
      " dense_57 (Dense)            (None, 160)               125600    \n",
      "                                                                 \n",
      " dense_58 (Dense)            (None, 80)                12880     \n",
      "                                                                 \n",
      " dense_59 (Dense)            (None, 10)                810       \n",
      "                                                                 \n",
      "=================================================================\n",
      "Total params: 139,290\n",
      "Trainable params: 139,290\n",
      "Non-trainable params: 0\n",
      "_________________________________________________________________\n",
      "Model: \"sequential_20\"\n",
      "_________________________________________________________________\n",
      " Layer (type)                Output Shape              Param #   \n",
      "=================================================================\n",
      " dense_60 (Dense)            (None, 160)               125600    \n",
      "                                                                 \n",
      " dense_61 (Dense)            (None, 160)               25760     \n",
      "                                                                 \n",
      " dense_62 (Dense)            (None, 10)                1610      \n",
      "                                                                 \n",
      "=================================================================\n",
      "Total params: 152,970\n",
      "Trainable params: 152,970\n",
      "Non-trainable params: 0\n",
      "_________________________________________________________________\n",
      "Model: \"sequential_21\"\n",
      "_________________________________________________________________\n",
      " Layer (type)                Output Shape              Param #   \n",
      "=================================================================\n",
      " dense_63 (Dense)            (None, 160)               125600    \n",
      "                                                                 \n",
      " dense_64 (Dense)            (None, 320)               51520     \n",
      "                                                                 \n",
      " dense_65 (Dense)            (None, 10)                3210      \n",
      "                                                                 \n",
      "=================================================================\n",
      "Total params: 180,330\n",
      "Trainable params: 180,330\n",
      "Non-trainable params: 0\n",
      "_________________________________________________________________\n",
      "Model: \"sequential_22\"\n"
     ]
    },
    {
     "name": "stdout",
     "output_type": "stream",
     "text": [
      "_________________________________________________________________\n",
      " Layer (type)                Output Shape              Param #   \n",
      "=================================================================\n",
      " dense_66 (Dense)            (None, 320)               251200    \n",
      "                                                                 \n",
      " dense_67 (Dense)            (None, 20)                6420      \n",
      "                                                                 \n",
      " dense_68 (Dense)            (None, 10)                210       \n",
      "                                                                 \n",
      "=================================================================\n",
      "Total params: 257,830\n",
      "Trainable params: 257,830\n",
      "Non-trainable params: 0\n",
      "_________________________________________________________________\n",
      "Model: \"sequential_23\"\n",
      "_________________________________________________________________\n",
      " Layer (type)                Output Shape              Param #   \n",
      "=================================================================\n",
      " dense_69 (Dense)            (None, 320)               251200    \n",
      "                                                                 \n",
      " dense_70 (Dense)            (None, 40)                12840     \n",
      "                                                                 \n",
      " dense_71 (Dense)            (None, 10)                410       \n",
      "                                                                 \n",
      "=================================================================\n",
      "Total params: 264,450\n",
      "Trainable params: 264,450\n",
      "Non-trainable params: 0\n",
      "_________________________________________________________________\n",
      "Model: \"sequential_24\"\n",
      "_________________________________________________________________\n",
      " Layer (type)                Output Shape              Param #   \n",
      "=================================================================\n",
      " dense_72 (Dense)            (None, 320)               251200    \n",
      "                                                                 \n",
      " dense_73 (Dense)            (None, 80)                25680     \n",
      "                                                                 \n",
      " dense_74 (Dense)            (None, 10)                810       \n",
      "                                                                 \n",
      "=================================================================\n",
      "Total params: 277,690\n",
      "Trainable params: 277,690\n",
      "Non-trainable params: 0\n",
      "_________________________________________________________________\n",
      "Model: \"sequential_25\"\n",
      "_________________________________________________________________\n",
      " Layer (type)                Output Shape              Param #   \n",
      "=================================================================\n",
      " dense_75 (Dense)            (None, 320)               251200    \n",
      "                                                                 \n",
      " dense_76 (Dense)            (None, 160)               51360     \n",
      "                                                                 \n",
      " dense_77 (Dense)            (None, 10)                1610      \n",
      "                                                                 \n",
      "=================================================================\n",
      "Total params: 304,170\n",
      "Trainable params: 304,170\n",
      "Non-trainable params: 0\n",
      "_________________________________________________________________\n",
      "Model: \"sequential_26\"\n",
      "_________________________________________________________________\n",
      " Layer (type)                Output Shape              Param #   \n",
      "=================================================================\n",
      " dense_78 (Dense)            (None, 320)               251200    \n",
      "                                                                 \n",
      " dense_79 (Dense)            (None, 320)               102720    \n",
      "                                                                 \n",
      " dense_80 (Dense)            (None, 10)                3210      \n",
      "                                                                 \n",
      "=================================================================\n",
      "Total params: 357,130\n",
      "Trainable params: 357,130\n",
      "Non-trainable params: 0\n",
      "_________________________________________________________________\n",
      "Wall time: 5min 19s\n"
     ]
    }
   ],
   "source": [
    "%%time\n",
    "\n",
    "res = pd.DataFrame(columns=['n1', 'n2', 'accuracy', 'val_accuracy'])\n",
    "n_list = list(map(lambda x: 10 * (2 ** x), range(1, 6)))\n",
    "\n",
    "for n1 in n_list:\n",
    "    \n",
    "    for n2 in n_list:\n",
    "        \n",
    "        model = Sequential([\n",
    "        Dense(n1, input_shape=(28 * 28,), activation='relu'),\n",
    "        Dense(n2, activation='relu'),\n",
    "        Dense(10, activation='sigmoid')\n",
    "        ])\n",
    "        \n",
    "        model.summary()\n",
    "        model.compile(optimizer='SGD', loss='categorical_crossentropy', metrics=['accuracy'])\n",
    "        history = model.fit(X_train, y_train,\n",
    "                            epochs=15,\n",
    "                            batch_size=1000,\n",
    "                            verbose=0,\n",
    "                            validation_data=(X_test, y_test))\n",
    "        val_accuracy = history.history['val_accuracy'][-1]\n",
    "        accuracy = history.history['accuracy'][-1]\n",
    "        res = res.append({'n1': n1, 'n2': n2, 'val_accuracy': val_accuracy, 'accuracy': accuracy}, ignore_index=True)"
   ]
  },
  {
   "cell_type": "code",
   "execution_count": 23,
   "id": "6e905c77",
   "metadata": {
    "scrolled": true
   },
   "outputs": [
    {
     "data": {
      "text/html": [
       "<div>\n",
       "<style scoped>\n",
       "    .dataframe tbody tr th:only-of-type {\n",
       "        vertical-align: middle;\n",
       "    }\n",
       "\n",
       "    .dataframe tbody tr th {\n",
       "        vertical-align: top;\n",
       "    }\n",
       "\n",
       "    .dataframe thead th {\n",
       "        text-align: right;\n",
       "    }\n",
       "</style>\n",
       "<table border=\"1\" class=\"dataframe\">\n",
       "  <thead>\n",
       "    <tr style=\"text-align: right;\">\n",
       "      <th></th>\n",
       "      <th>n1</th>\n",
       "      <th>n2</th>\n",
       "      <th>accuracy</th>\n",
       "      <th>val_accuracy</th>\n",
       "    </tr>\n",
       "  </thead>\n",
       "  <tbody>\n",
       "    <tr>\n",
       "      <th>24</th>\n",
       "      <td>320.0</td>\n",
       "      <td>320.0</td>\n",
       "      <td>0.811017</td>\n",
       "      <td>0.8014</td>\n",
       "    </tr>\n",
       "    <tr>\n",
       "      <th>22</th>\n",
       "      <td>320.0</td>\n",
       "      <td>80.0</td>\n",
       "      <td>0.809483</td>\n",
       "      <td>0.7972</td>\n",
       "    </tr>\n",
       "    <tr>\n",
       "      <th>20</th>\n",
       "      <td>320.0</td>\n",
       "      <td>20.0</td>\n",
       "      <td>0.808233</td>\n",
       "      <td>0.7967</td>\n",
       "    </tr>\n",
       "    <tr>\n",
       "      <th>23</th>\n",
       "      <td>320.0</td>\n",
       "      <td>160.0</td>\n",
       "      <td>0.806233</td>\n",
       "      <td>0.7950</td>\n",
       "    </tr>\n",
       "    <tr>\n",
       "      <th>16</th>\n",
       "      <td>160.0</td>\n",
       "      <td>40.0</td>\n",
       "      <td>0.795917</td>\n",
       "      <td>0.7896</td>\n",
       "    </tr>\n",
       "    <tr>\n",
       "      <th>17</th>\n",
       "      <td>160.0</td>\n",
       "      <td>80.0</td>\n",
       "      <td>0.798350</td>\n",
       "      <td>0.7892</td>\n",
       "    </tr>\n",
       "    <tr>\n",
       "      <th>18</th>\n",
       "      <td>160.0</td>\n",
       "      <td>160.0</td>\n",
       "      <td>0.799367</td>\n",
       "      <td>0.7888</td>\n",
       "    </tr>\n",
       "    <tr>\n",
       "      <th>21</th>\n",
       "      <td>320.0</td>\n",
       "      <td>40.0</td>\n",
       "      <td>0.798667</td>\n",
       "      <td>0.7856</td>\n",
       "    </tr>\n",
       "    <tr>\n",
       "      <th>11</th>\n",
       "      <td>80.0</td>\n",
       "      <td>40.0</td>\n",
       "      <td>0.797383</td>\n",
       "      <td>0.7845</td>\n",
       "    </tr>\n",
       "    <tr>\n",
       "      <th>19</th>\n",
       "      <td>160.0</td>\n",
       "      <td>320.0</td>\n",
       "      <td>0.795900</td>\n",
       "      <td>0.7830</td>\n",
       "    </tr>\n",
       "  </tbody>\n",
       "</table>\n",
       "</div>"
      ],
      "text/plain": [
       "       n1     n2  accuracy  val_accuracy\n",
       "24  320.0  320.0  0.811017        0.8014\n",
       "22  320.0   80.0  0.809483        0.7972\n",
       "20  320.0   20.0  0.808233        0.7967\n",
       "23  320.0  160.0  0.806233        0.7950\n",
       "16  160.0   40.0  0.795917        0.7896\n",
       "17  160.0   80.0  0.798350        0.7892\n",
       "18  160.0  160.0  0.799367        0.7888\n",
       "21  320.0   40.0  0.798667        0.7856\n",
       "11   80.0   40.0  0.797383        0.7845\n",
       "19  160.0  320.0  0.795900        0.7830"
      ]
     },
     "execution_count": 23,
     "metadata": {},
     "output_type": "execute_result"
    }
   ],
   "source": [
    "res.sort_values(by='val_accuracy', ascending=False).head(10)"
   ]
  },
  {
   "cell_type": "markdown",
   "id": "9bc160a1",
   "metadata": {},
   "source": [
    "На валидационных данных лучше работает модель с количеством нейронов 160 и 320."
   ]
  },
  {
   "cell_type": "markdown",
   "id": "e9960b40",
   "metadata": {},
   "source": [
    "### Добавим дополнительные слои"
   ]
  },
  {
   "cell_type": "code",
   "execution_count": 24,
   "id": "e577dfad",
   "metadata": {},
   "outputs": [
    {
     "data": {
      "text/plain": [
       "177120"
      ]
     },
     "execution_count": 24,
     "metadata": {},
     "output_type": "execute_result"
    }
   ],
   "source": [
    "# число тренируемых параметров для лучшей двуслойной сети \n",
    "l1 = (28*28) * 160 +160\n",
    "l2 = 320 * 160 +320\n",
    "l1 + l2"
   ]
  },
  {
   "cell_type": "code",
   "execution_count": 25,
   "id": "387db600",
   "metadata": {
    "scrolled": false
   },
   "outputs": [
    {
     "name": "stdout",
     "output_type": "stream",
     "text": [
      "Model: \"sequential_27\"\n",
      "_________________________________________________________________\n",
      " Layer (type)                Output Shape              Param #   \n",
      "=================================================================\n",
      " dense_81 (Dense)            (None, 180)               141300    \n",
      "                                                                 \n",
      " dense_82 (Dense)            (None, 180)               32580     \n",
      "                                                                 \n",
      " dense_83 (Dense)            (None, 10)                1810      \n",
      "                                                                 \n",
      "=================================================================\n",
      "Total params: 175,690\n",
      "Trainable params: 175,690\n",
      "Non-trainable params: 0\n",
      "_________________________________________________________________\n",
      "Model: \"sequential_28\"\n",
      "_________________________________________________________________\n",
      " Layer (type)                Output Shape              Param #   \n",
      "=================================================================\n",
      " dense_84 (Dense)            (None, 155)               121675    \n",
      "                                                                 \n",
      " dense_85 (Dense)            (None, 155)               24180     \n",
      "                                                                 \n",
      " dense_86 (Dense)            (None, 155)               24180     \n",
      "                                                                 \n",
      " dense_87 (Dense)            (None, 10)                1560      \n",
      "                                                                 \n",
      "=================================================================\n",
      "Total params: 171,595\n",
      "Trainable params: 171,595\n",
      "Non-trainable params: 0\n",
      "_________________________________________________________________\n",
      "Model: \"sequential_29\"\n",
      "_________________________________________________________________\n",
      " Layer (type)                Output Shape              Param #   \n",
      "=================================================================\n",
      " dense_88 (Dense)            (None, 130)               102050    \n",
      "                                                                 \n",
      " dense_89 (Dense)            (None, 130)               17030     \n",
      "                                                                 \n",
      " dense_90 (Dense)            (None, 130)               17030     \n",
      "                                                                 \n",
      " dense_91 (Dense)            (None, 130)               17030     \n",
      "                                                                 \n",
      " dense_92 (Dense)            (None, 130)               17030     \n",
      "                                                                 \n",
      " dense_93 (Dense)            (None, 10)                1310      \n",
      "                                                                 \n",
      "=================================================================\n",
      "Total params: 171,480\n",
      "Trainable params: 171,480\n",
      "Non-trainable params: 0\n",
      "_________________________________________________________________\n",
      "Model: \"sequential_30\"\n",
      "_________________________________________________________________\n",
      " Layer (type)                Output Shape              Param #   \n",
      "=================================================================\n",
      " dense_94 (Dense)            (None, 100)               78500     \n",
      "                                                                 \n",
      " dense_95 (Dense)            (None, 100)               10100     \n",
      "                                                                 \n",
      " dense_96 (Dense)            (None, 100)               10100     \n",
      "                                                                 \n",
      " dense_97 (Dense)            (None, 100)               10100     \n",
      "                                                                 \n",
      " dense_98 (Dense)            (None, 100)               10100     \n",
      "                                                                 \n",
      " dense_99 (Dense)            (None, 100)               10100     \n",
      "                                                                 \n",
      " dense_100 (Dense)           (None, 100)               10100     \n",
      "                                                                 \n",
      " dense_101 (Dense)           (None, 100)               10100     \n",
      "                                                                 \n",
      " dense_102 (Dense)           (None, 100)               10100     \n",
      "                                                                 \n",
      " dense_103 (Dense)           (None, 100)               10100     \n",
      "                                                                 \n",
      " dense_104 (Dense)           (None, 10)                1010      \n",
      "                                                                 \n",
      "=================================================================\n",
      "Total params: 170,410\n",
      "Trainable params: 170,410\n",
      "Non-trainable params: 0\n",
      "_________________________________________________________________\n",
      "Wall time: 1min 58s\n"
     ]
    }
   ],
   "source": [
    "%%time\n",
    "layers = {2:180, 3:155, 5:130, 10:100}\n",
    "res_2 = pd.DataFrame(columns=['n', 'accuracy', 'val_accuracy'])\n",
    "\n",
    "for l in [2, 3, 5, 10]:\n",
    "    n = layers[l]\n",
    "    model = Sequential([Dense(n, input_shape=(28 * 28,), activation='relu')])\n",
    "    \n",
    "    for _ in range(l - 1):\n",
    "        model.add(Dense(n, activation='relu'))\n",
    "    \n",
    "    model.add(Dense(10, activation='sigmoid'))\n",
    "    \n",
    "    model.summary()\n",
    "    model.compile(optimizer='SGD', loss='categorical_crossentropy', metrics=['accuracy'])\n",
    "    history = model.fit(X_train, y_train,\n",
    "                            epochs=25,\n",
    "                            batch_size=1000,\n",
    "                            verbose=0,\n",
    "                            validation_data=(X_test, y_test))\n",
    "    val_accuracy = history.history['val_accuracy'][-1]\n",
    "    accuracy = history.history['accuracy'][-1]\n",
    "    res_2 = res_2.append({'n': n, 'val_accuracy': val_accuracy, 'accuracy': accuracy}, ignore_index=True)"
   ]
  },
  {
   "cell_type": "code",
   "execution_count": 26,
   "id": "8edf8d14",
   "metadata": {},
   "outputs": [
    {
     "data": {
      "text/html": [
       "<div>\n",
       "<style scoped>\n",
       "    .dataframe tbody tr th:only-of-type {\n",
       "        vertical-align: middle;\n",
       "    }\n",
       "\n",
       "    .dataframe tbody tr th {\n",
       "        vertical-align: top;\n",
       "    }\n",
       "\n",
       "    .dataframe thead th {\n",
       "        text-align: right;\n",
       "    }\n",
       "</style>\n",
       "<table border=\"1\" class=\"dataframe\">\n",
       "  <thead>\n",
       "    <tr style=\"text-align: right;\">\n",
       "      <th></th>\n",
       "      <th>n</th>\n",
       "      <th>accuracy</th>\n",
       "      <th>val_accuracy</th>\n",
       "    </tr>\n",
       "  </thead>\n",
       "  <tbody>\n",
       "    <tr>\n",
       "      <th>0</th>\n",
       "      <td>180.0</td>\n",
       "      <td>0.825800</td>\n",
       "      <td>0.8176</td>\n",
       "    </tr>\n",
       "    <tr>\n",
       "      <th>1</th>\n",
       "      <td>155.0</td>\n",
       "      <td>0.827367</td>\n",
       "      <td>0.8137</td>\n",
       "    </tr>\n",
       "    <tr>\n",
       "      <th>2</th>\n",
       "      <td>130.0</td>\n",
       "      <td>0.809800</td>\n",
       "      <td>0.7979</td>\n",
       "    </tr>\n",
       "    <tr>\n",
       "      <th>3</th>\n",
       "      <td>100.0</td>\n",
       "      <td>0.760750</td>\n",
       "      <td>0.7200</td>\n",
       "    </tr>\n",
       "  </tbody>\n",
       "</table>\n",
       "</div>"
      ],
      "text/plain": [
       "       n  accuracy  val_accuracy\n",
       "0  180.0  0.825800        0.8176\n",
       "1  155.0  0.827367        0.8137\n",
       "2  130.0  0.809800        0.7979\n",
       "3  100.0  0.760750        0.7200"
      ]
     },
     "execution_count": 26,
     "metadata": {},
     "output_type": "execute_result"
    }
   ],
   "source": [
    "res_2"
   ]
  },
  {
   "cell_type": "markdown",
   "id": "fd3583f3",
   "metadata": {},
   "source": [
    "Очень глубокая сеть показала себя плохо. С остальными можно пробовать работать дальше"
   ]
  },
  {
   "cell_type": "markdown",
   "id": "4d771050",
   "metadata": {},
   "source": [
    "### 2. Оптимизаторы"
   ]
  },
  {
   "cell_type": "code",
   "execution_count": 40,
   "id": "a42f702d",
   "metadata": {
    "scrolled": false
   },
   "outputs": [
    {
     "name": "stdout",
     "output_type": "stream",
     "text": [
      "Оптимизатор: SGD\n",
      "Model: \"sequential_35\"\n",
      "_________________________________________________________________\n",
      " Layer (type)                Output Shape              Param #   \n",
      "=================================================================\n",
      " dense_121 (Dense)           (None, 155)               121675    \n",
      "                                                                 \n",
      " dense_122 (Dense)           (None, 155)               24180     \n",
      "                                                                 \n",
      " dense_123 (Dense)           (None, 155)               24180     \n",
      "                                                                 \n",
      " dense_124 (Dense)           (None, 10)                1560      \n",
      "                                                                 \n",
      "=================================================================\n",
      "Total params: 171,595\n",
      "Trainable params: 171,595\n",
      "Non-trainable params: 0\n",
      "_________________________________________________________________\n",
      "Оптимизатор: RMSprop\n",
      "Model: \"sequential_36\"\n",
      "_________________________________________________________________\n",
      " Layer (type)                Output Shape              Param #   \n",
      "=================================================================\n",
      " dense_125 (Dense)           (None, 155)               121675    \n",
      "                                                                 \n",
      " dense_126 (Dense)           (None, 155)               24180     \n",
      "                                                                 \n",
      " dense_127 (Dense)           (None, 155)               24180     \n",
      "                                                                 \n",
      " dense_128 (Dense)           (None, 10)                1560      \n",
      "                                                                 \n",
      "=================================================================\n",
      "Total params: 171,595\n",
      "Trainable params: 171,595\n",
      "Non-trainable params: 0\n",
      "_________________________________________________________________\n",
      "Оптимизатор: Adam\n",
      "Model: \"sequential_37\"\n",
      "_________________________________________________________________\n",
      " Layer (type)                Output Shape              Param #   \n",
      "=================================================================\n",
      " dense_129 (Dense)           (None, 155)               121675    \n",
      "                                                                 \n",
      " dense_130 (Dense)           (None, 155)               24180     \n",
      "                                                                 \n",
      " dense_131 (Dense)           (None, 155)               24180     \n",
      "                                                                 \n",
      " dense_132 (Dense)           (None, 10)                1560      \n",
      "                                                                 \n",
      "=================================================================\n",
      "Total params: 171,595\n",
      "Trainable params: 171,595\n",
      "Non-trainable params: 0\n",
      "_________________________________________________________________\n"
     ]
    }
   ],
   "source": [
    "res_3 = pd.DataFrame(columns=['optim', 'accuracy', 'val_accuracy'])\n",
    "\n",
    "for optim in enumerate([keras.optimizers.SGD(),\n",
    "                        keras.optimizers.RMSprop(),\n",
    "                        keras.optimizers.Adam()]):\n",
    "    optim_name = optim[1].get_config()['name']\n",
    "    print(f'Оптимизатор: {optim_name}')\n",
    "    \n",
    "    model = Sequential([Dense(155, input_shape=(28 * 28,), activation='relu'),\n",
    "                          Dense(155, activation='relu'),\n",
    "                          Dense(155, activation='relu'),\n",
    "                          Dense(10, activation='sigmoid')\n",
    "                         ])\n",
    "    \n",
    "    model.summary()\n",
    "    model.compile(optimizer=optim_name, loss='categorical_crossentropy', metrics=['accuracy'])\n",
    "    history = model.fit(X_train, y_train,\n",
    "                            epochs=25,\n",
    "                            batch_size=1000,\n",
    "                            verbose=0,\n",
    "                            validation_data=(X_test, y_test))\n",
    "    \n",
    "    val_accuracy = history.history['val_accuracy'][-1]\n",
    "    accuracy = history.history['accuracy'][-1]\n",
    "    res_3 = res_3.append({'optim': optim_name, 'val_accuracy': val_accuracy, 'accuracy': accuracy}, ignore_index=True)"
   ]
  },
  {
   "cell_type": "code",
   "execution_count": 41,
   "id": "7b9b145a",
   "metadata": {},
   "outputs": [
    {
     "data": {
      "text/html": [
       "<div>\n",
       "<style scoped>\n",
       "    .dataframe tbody tr th:only-of-type {\n",
       "        vertical-align: middle;\n",
       "    }\n",
       "\n",
       "    .dataframe tbody tr th {\n",
       "        vertical-align: top;\n",
       "    }\n",
       "\n",
       "    .dataframe thead th {\n",
       "        text-align: right;\n",
       "    }\n",
       "</style>\n",
       "<table border=\"1\" class=\"dataframe\">\n",
       "  <thead>\n",
       "    <tr style=\"text-align: right;\">\n",
       "      <th></th>\n",
       "      <th>optim</th>\n",
       "      <th>accuracy</th>\n",
       "      <th>val_accuracy</th>\n",
       "    </tr>\n",
       "  </thead>\n",
       "  <tbody>\n",
       "    <tr>\n",
       "      <th>0</th>\n",
       "      <td>SGD</td>\n",
       "      <td>0.823833</td>\n",
       "      <td>0.8139</td>\n",
       "    </tr>\n",
       "    <tr>\n",
       "      <th>1</th>\n",
       "      <td>RMSprop</td>\n",
       "      <td>0.912483</td>\n",
       "      <td>0.8844</td>\n",
       "    </tr>\n",
       "    <tr>\n",
       "      <th>2</th>\n",
       "      <td>Adam</td>\n",
       "      <td>0.930383</td>\n",
       "      <td>0.8837</td>\n",
       "    </tr>\n",
       "  </tbody>\n",
       "</table>\n",
       "</div>"
      ],
      "text/plain": [
       "     optim  accuracy  val_accuracy\n",
       "0      SGD  0.823833        0.8139\n",
       "1  RMSprop  0.912483        0.8844\n",
       "2     Adam  0.930383        0.8837"
      ]
     },
     "execution_count": 41,
     "metadata": {},
     "output_type": "execute_result"
    }
   ],
   "source": [
    "res_3"
   ]
  },
  {
   "cell_type": "markdown",
   "id": "3553834b",
   "metadata": {},
   "source": [
    "Самый сильный рост метрики получился при смене оптимизаторов. Количество эпох тоже дает хороший прирост. Размеры сети и батча меняют результат, но спрогнозировать изменения обычно не получается, нужны эксперименты. Часто сети из большого числа слоев показывают себя хуже."
   ]
  },
  {
   "cell_type": "markdown",
   "id": "a37090cd",
   "metadata": {},
   "source": [
    "### 3. Матрица ошибок по классам"
   ]
  },
  {
   "cell_type": "code",
   "execution_count": 37,
   "id": "01543e01",
   "metadata": {},
   "outputs": [
    {
     "name": "stdout",
     "output_type": "stream",
     "text": [
      "Model: \"sequential_34\"\n",
      "_________________________________________________________________\n",
      " Layer (type)                Output Shape              Param #   \n",
      "=================================================================\n",
      " dense_117 (Dense)           (None, 155)               121675    \n",
      "                                                                 \n",
      " dense_118 (Dense)           (None, 155)               24180     \n",
      "                                                                 \n",
      " dense_119 (Dense)           (None, 155)               24180     \n",
      "                                                                 \n",
      " dense_120 (Dense)           (None, 10)                1560      \n",
      "                                                                 \n",
      "=================================================================\n",
      "Total params: 171,595\n",
      "Trainable params: 171,595\n",
      "Non-trainable params: 0\n",
      "_________________________________________________________________\n",
      "313/313 [==============================] - 1s 2ms/step - loss: 0.3974 - accuracy: 0.8885\n"
     ]
    },
    {
     "data": {
      "text/plain": [
       "(0.3973965048789978, 0.8884999752044678)"
      ]
     },
     "execution_count": 37,
     "metadata": {},
     "output_type": "execute_result"
    }
   ],
   "source": [
    "model = Sequential([Dense(155, input_shape=(28 * 28,), activation='relu'),\n",
    "                          Dense(155, activation='relu'),\n",
    "                          Dense(155, activation='relu'),\n",
    "                          Dense(10, activation='sigmoid')\n",
    "                         ])\n",
    "    \n",
    "model.summary()\n",
    "model.compile(optimizer='Adam', loss='categorical_crossentropy', metrics=['accuracy'])\n",
    "history = model.fit(X_train, y_train,\n",
    "                            epochs=45,\n",
    "                            batch_size=1000,\n",
    "                            verbose=0,\n",
    "                            validation_data=(X_test, y_test))\n",
    "    \n",
    "loss, metric = model.evaluate(X_test, y_test)\n",
    "loss, metric"
   ]
  },
  {
   "cell_type": "code",
   "execution_count": 38,
   "id": "568ad9fb",
   "metadata": {},
   "outputs": [
    {
     "name": "stdout",
     "output_type": "stream",
     "text": [
      "313/313 [==============================] - 1s 2ms/step\n"
     ]
    }
   ],
   "source": [
    "y_pred = model.predict(X_test)\n",
    "y_pred_class = np.argmax(y_pred, axis=1)"
   ]
  },
  {
   "cell_type": "code",
   "execution_count": 39,
   "id": "78afd0b2",
   "metadata": {
    "scrolled": false
   },
   "outputs": [
    {
     "data": {
      "image/png": "[encoded data removed]",
      "text/plain": [
       "<Figure size 720x720 with 2 Axes>"
      ]
     },
     "metadata": {
      "needs_background": "light"
     },
     "output_type": "display_data"
    }
   ],
   "source": [
    "class_names = ['T-shirt/top', 'Trouser', 'Pullover', 'Dress', 'Coat',\n",
    "               'Sandal', 'Shirt', 'Sneaker', 'Bag', 'Ankle boot']\n",
    "disp = ConfusionMatrixDisplay(confusion_matrix=confusion_matrix(test_labels, y_pred_class), display_labels=class_names)\n",
    "\n",
    "fig, ax = plt.subplots(figsize=(10, 10))\n",
    "disp.plot(values_format='.3g', ax=ax)\n",
    "plt.xticks(rotation=70)\n",
    "plt.show();"
   ]
  },
  {
   "cell_type": "markdown",
   "id": "b6cbd252",
   "metadata": {},
   "source": [
    "Модель путает T-Shirt/top и Shirt, а еще Pullover и Coat. Но хорошо распознает классы Ankle boot и Trouser, например."
   ]
  }
 ],
 "metadata": {
  "kernelspec": {
   "display_name": "Python 3 (ipykernel)",
   "language": "python",
   "name": "python3"
  },
  "language_info": {
   "codemirror_mode": {
    "name": "ipython",
    "version": 3
   },
   "file_extension": ".py",
   "mimetype": "text/x-python",
   "name": "python",
   "nbconvert_exporter": "python",
   "pygments_lexer": "ipython3",
   "version": "3.9.7"
  }
 },
 "nbformat": 4,
 "nbformat_minor": 5
}
