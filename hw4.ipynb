{
 "cells": [
  {
   "cell_type": "markdown",
   "id": "00b460cf",
   "metadata": {},
   "source": [
    " - Обучить сверточную нейронную сеть на датасете cifar10\n",
    " - Оценить рост точности при увеличении ширины сети (больше ядер)\n",
    " - Оценить рост точности при увеличении ширины сети (больше слоев)\n",
    " - Сравнить с точностью полносвязной сети для этой выборки"
   ]
  },
  {
   "cell_type": "code",
   "execution_count": 1,
   "id": "05a71da5",
   "metadata": {},
   "outputs": [],
   "source": [
    "import numpy as np\n",
    "import pandas as pd\n",
    "import tensorflow as tf\n",
    "import matplotlib.pyplot as plt\n",
    "\n",
    "from tensorflow.keras.models import Sequential, Model\n",
    "from tensorflow.keras.layers import Conv2D, Input\n",
    "from tensorflow.keras.layers import GlobalMaxPooling2D, MaxPooling2D, AveragePooling2D, GlobalAveragePooling2D\n",
    "from tensorflow.keras.datasets import cifar10\n",
    "from tensorflow.keras.preprocessing.image import ImageDataGenerator\n",
    "from tensorflow.keras.utils import to_categorical\n",
    "from tensorflow.keras.layers import Dense, Dropout, Activation, Flatten"
   ]
  },
  {
   "cell_type": "code",
   "execution_count": 2,
   "id": "74a61ff9",
   "metadata": {},
   "outputs": [
    {
     "name": "stdout",
     "output_type": "stream",
     "text": [
      "Downloading data from https://www.cs.toronto.edu/~kriz/cifar-10-python.tar.gz\n",
      "170498071/170498071 [==============================] - 4063s 24us/step\n"
     ]
    }
   ],
   "source": [
    "import ssl\n",
    "ssl._create_default_https_context = ssl._create_unverified_context\n",
    "\n",
    "data = cifar10.load_data()"
   ]
  },
  {
   "cell_type": "code",
   "execution_count": 28,
   "id": "6aecb654",
   "metadata": {},
   "outputs": [
    {
     "name": "stdout",
     "output_type": "stream",
     "text": [
      "50000 тренировочные примеры\n",
      "10000 тестовые примеры\n"
     ]
    }
   ],
   "source": [
    "(X_train, y_train), (X_test, y_test) = data\n",
    "print(X_train.shape[0], 'тренировочные примеры')\n",
    "print(X_test.shape[0], 'тестовые примеры')"
   ]
  },
  {
   "cell_type": "code",
   "execution_count": 29,
   "id": "635c60c2",
   "metadata": {},
   "outputs": [],
   "source": [
    "num_classes = 10\n",
    "\n",
    "# преобразование матрицы чисел 0-9 в бинарную матрицу чисел 0-1\n",
    "y_train = to_categorical(y_train, num_classes)\n",
    "y_test = to_categorical(y_test, num_classes)\n",
    "\n",
    "X_train = X_train / 255.0\n",
    "X_test = X_test / 255.0"
   ]
  },
  {
   "cell_type": "code",
   "execution_count": 24,
   "id": "609a25fc",
   "metadata": {},
   "outputs": [
    {
     "data": {
      "text/plain": [
       "((50000, 32, 32, 3), (50000, 1), (10000, 32, 32, 3), (10000, 1))"
      ]
     },
     "execution_count": 24,
     "metadata": {},
     "output_type": "execute_result"
    }
   ],
   "source": [
    "X_train.shape, y_train.shape, X_test.shape, y_test.shape"
   ]
  },
  {
   "cell_type": "code",
   "execution_count": 25,
   "id": "3f8c3876",
   "metadata": {},
   "outputs": [],
   "source": [
    "batch_size = 100\n",
    "epochs = 10"
   ]
  },
  {
   "cell_type": "markdown",
   "id": "3e24dda5",
   "metadata": {},
   "source": [
    "### Базовая модель"
   ]
  },
  {
   "cell_type": "code",
   "execution_count": 65,
   "id": "bf92a700",
   "metadata": {},
   "outputs": [
    {
     "name": "stdout",
     "output_type": "stream",
     "text": [
      "Model: \"sequential_20\"\n",
      "_________________________________________________________________\n",
      " Layer (type)                Output Shape              Param #   \n",
      "=================================================================\n",
      " conv2d_66 (Conv2D)          (None, 30, 30, 64)        1792      \n",
      "                                                                 \n",
      " max_pooling2d_59 (MaxPoolin  (None, 15, 15, 64)       0         \n",
      " g2D)                                                            \n",
      "                                                                 \n",
      " conv2d_67 (Conv2D)          (None, 13, 13, 64)        36928     \n",
      "                                                                 \n",
      " max_pooling2d_60 (MaxPoolin  (None, 6, 6, 64)         0         \n",
      " g2D)                                                            \n",
      "                                                                 \n",
      " conv2d_68 (Conv2D)          (None, 4, 4, 32)          18464     \n",
      "                                                                 \n",
      " max_pooling2d_61 (MaxPoolin  (None, 2, 2, 32)         0         \n",
      " g2D)                                                            \n",
      "                                                                 \n",
      " flatten_12 (Flatten)        (None, 128)               0         \n",
      "                                                                 \n",
      " dense_29 (Dense)            (None, 32)                4128      \n",
      "                                                                 \n",
      " dense_30 (Dense)            (None, 10)                330       \n",
      "                                                                 \n",
      "=================================================================\n",
      "Total params: 61,642\n",
      "Trainable params: 61,642\n",
      "Non-trainable params: 0\n",
      "_________________________________________________________________\n"
     ]
    }
   ],
   "source": [
    "model = Sequential()\n",
    "\n",
    "model.add(Conv2D(64, (3, 3), activation='relu', input_shape=(32, 32, 3)))\n",
    "model.add(MaxPooling2D((2, 2)))\n",
    "model.add(Conv2D(64, (3, 3), activation='relu'))\n",
    "model.add(MaxPooling2D((2, 2)))\n",
    "model.add(Conv2D(32, (3, 3), activation='relu'))\n",
    "model.add(MaxPooling2D((2, 2)))\n",
    "\n",
    "model.add(Flatten())\n",
    "model.add(Dense(32, activation='relu'))\n",
    "model.add(Dense(num_classes, activation='softmax'))\n",
    "\n",
    "model.summary()"
   ]
  },
  {
   "cell_type": "code",
   "execution_count": 66,
   "id": "8711a93e",
   "metadata": {},
   "outputs": [
    {
     "name": "stdout",
     "output_type": "stream",
     "text": [
      "Epoch 1/10\n",
      "500/500 [==============================] - 67s 131ms/step - loss: 1.7447 - accuracy: 0.3570 - val_loss: 1.5263 - val_accuracy: 0.4365\n",
      "Epoch 2/10\n",
      "500/500 [==============================] - 66s 132ms/step - loss: 1.4134 - accuracy: 0.4876 - val_loss: 1.3430 - val_accuracy: 0.5120\n",
      "Epoch 3/10\n",
      "500/500 [==============================] - 64s 129ms/step - loss: 1.2718 - accuracy: 0.5464 - val_loss: 1.2013 - val_accuracy: 0.5664\n",
      "Epoch 4/10\n",
      "500/500 [==============================] - 64s 129ms/step - loss: 1.1783 - accuracy: 0.5830 - val_loss: 1.1461 - val_accuracy: 0.5936\n",
      "Epoch 5/10\n",
      "500/500 [==============================] - 66s 131ms/step - loss: 1.1156 - accuracy: 0.6065 - val_loss: 1.1311 - val_accuracy: 0.5982\n",
      "Epoch 6/10\n",
      "500/500 [==============================] - 64s 129ms/step - loss: 1.0554 - accuracy: 0.6280 - val_loss: 1.0797 - val_accuracy: 0.6232\n",
      "Epoch 7/10\n",
      "500/500 [==============================] - 64s 129ms/step - loss: 1.0084 - accuracy: 0.6460 - val_loss: 1.0391 - val_accuracy: 0.6365\n",
      "Epoch 8/10\n",
      "500/500 [==============================] - 65s 130ms/step - loss: 0.9663 - accuracy: 0.6614 - val_loss: 1.0297 - val_accuracy: 0.6382\n",
      "Epoch 9/10\n",
      "500/500 [==============================] - 65s 129ms/step - loss: 0.9383 - accuracy: 0.6729 - val_loss: 0.9797 - val_accuracy: 0.6557\n",
      "Epoch 10/10\n",
      "500/500 [==============================] - 67s 133ms/step - loss: 0.9057 - accuracy: 0.6846 - val_loss: 0.9396 - val_accuracy: 0.6692\n"
     ]
    }
   ],
   "source": [
    "model.compile(loss='categorical_crossentropy',\n",
    "              optimizer='Adam',\n",
    "              metrics=['accuracy'])\n",
    "\n",
    "history = model.fit(X_train, y_train,\n",
    "                    batch_size=batch_size,\n",
    "                    epochs=epochs,\n",
    "                    validation_data=(X_test, y_test))"
   ]
  },
  {
   "cell_type": "markdown",
   "id": "f778ef15",
   "metadata": {},
   "source": [
    "### Больше ядер"
   ]
  },
  {
   "cell_type": "code",
   "execution_count": 35,
   "id": "50ef3d7b",
   "metadata": {
    "scrolled": false
   },
   "outputs": [
    {
     "name": "stdout",
     "output_type": "stream",
     "text": [
      "Model: \"sequential_8\"\n",
      "_________________________________________________________________\n",
      " Layer (type)                Output Shape              Param #   \n",
      "=================================================================\n",
      " conv2d_24 (Conv2D)          (None, 30, 30, 128)       3584      \n",
      "                                                                 \n",
      " max_pooling2d_23 (MaxPoolin  (None, 15, 15, 128)      0         \n",
      " g2D)                                                            \n",
      "                                                                 \n",
      " conv2d_25 (Conv2D)          (None, 13, 13, 128)       147584    \n",
      "                                                                 \n",
      " max_pooling2d_24 (MaxPoolin  (None, 6, 6, 128)        0         \n",
      " g2D)                                                            \n",
      "                                                                 \n",
      " conv2d_26 (Conv2D)          (None, 4, 4, 64)          73792     \n",
      "                                                                 \n",
      " max_pooling2d_25 (MaxPoolin  (None, 2, 2, 64)         0         \n",
      " g2D)                                                            \n",
      "                                                                 \n",
      " flatten_7 (Flatten)         (None, 256)               0         \n",
      "                                                                 \n",
      " dense_16 (Dense)            (None, 64)                16448     \n",
      "                                                                 \n",
      " dense_17 (Dense)            (None, 10)                650       \n",
      "                                                                 \n",
      "=================================================================\n",
      "Total params: 242,058\n",
      "Trainable params: 242,058\n",
      "Non-trainable params: 0\n",
      "_________________________________________________________________\n"
     ]
    }
   ],
   "source": [
    "model_2 = Sequential()\n",
    "\n",
    "model_2.add(Conv2D(128, (3, 3), activation='relu', input_shape=(32, 32, 3)))\n",
    "model_2.add(MaxPooling2D((2, 2)))\n",
    "model_2.add(Conv2D(128, (3, 3), activation='relu'))\n",
    "model_2.add(MaxPooling2D((2, 2)))\n",
    "model_2.add(Conv2D(64, (3, 3), activation='relu'))\n",
    "model_2.add(MaxPooling2D((2, 2)))\n",
    "\n",
    "model_2.add(Flatten())\n",
    "model_2.add(Dense(64, activation='relu'))\n",
    "model_2.add(Dense(num_classes, activation='softmax'))\n",
    "\n",
    "model_2.summary()"
   ]
  },
  {
   "cell_type": "code",
   "execution_count": 37,
   "id": "6dee151d",
   "metadata": {},
   "outputs": [
    {
     "name": "stdout",
     "output_type": "stream",
     "text": [
      "Epoch 1/10\n",
      "500/500 [==============================] - 157s 311ms/step - loss: 1.6879 - accuracy: 0.3840 - val_loss: 1.4020 - val_accuracy: 0.4947\n",
      "Epoch 2/10\n",
      "500/500 [==============================] - 156s 312ms/step - loss: 1.3084 - accuracy: 0.5324 - val_loss: 1.1817 - val_accuracy: 0.5812\n",
      "Epoch 3/10\n",
      "500/500 [==============================] - 157s 314ms/step - loss: 1.1420 - accuracy: 0.5975 - val_loss: 1.1016 - val_accuracy: 0.6141\n",
      "Epoch 4/10\n",
      "500/500 [==============================] - 156s 313ms/step - loss: 1.0416 - accuracy: 0.6346 - val_loss: 1.0617 - val_accuracy: 0.6258\n",
      "Epoch 5/10\n",
      "500/500 [==============================] - 156s 311ms/step - loss: 0.9708 - accuracy: 0.6618 - val_loss: 1.0553 - val_accuracy: 0.6386\n",
      "Epoch 6/10\n",
      "500/500 [==============================] - 156s 311ms/step - loss: 0.9116 - accuracy: 0.6812 - val_loss: 0.9626 - val_accuracy: 0.6651\n",
      "Epoch 7/10\n",
      "500/500 [==============================] - 157s 314ms/step - loss: 0.8664 - accuracy: 0.6994 - val_loss: 0.9078 - val_accuracy: 0.6892\n",
      "Epoch 8/10\n",
      "500/500 [==============================] - 155s 310ms/step - loss: 0.8151 - accuracy: 0.7147 - val_loss: 0.8798 - val_accuracy: 0.6951\n",
      "Epoch 9/10\n",
      "500/500 [==============================] - 153s 306ms/step - loss: 0.7763 - accuracy: 0.7297 - val_loss: 0.9108 - val_accuracy: 0.6901\n",
      "Epoch 10/10\n",
      "500/500 [==============================] - 152s 305ms/step - loss: 0.7490 - accuracy: 0.7382 - val_loss: 0.8624 - val_accuracy: 0.7030\n"
     ]
    }
   ],
   "source": [
    "model_2.compile(loss='categorical_crossentropy',\n",
    "                optimizer='Adam',\n",
    "                metrics=['accuracy'])\n",
    "\n",
    "history_2 = model_2.fit(X_train, y_train,\n",
    "                    batch_size=batch_size,\n",
    "                    epochs=epochs,\n",
    "                    validation_data=(X_test, y_test))"
   ]
  },
  {
   "cell_type": "markdown",
   "id": "2c5cc735",
   "metadata": {},
   "source": [
    "### Больше слоев"
   ]
  },
  {
   "cell_type": "code",
   "execution_count": 47,
   "id": "3d62e40c",
   "metadata": {},
   "outputs": [
    {
     "name": "stdout",
     "output_type": "stream",
     "text": [
      "Model: \"sequential_18\"\n",
      "_________________________________________________________________\n",
      " Layer (type)                Output Shape              Param #   \n",
      "=================================================================\n",
      " conv2d_62 (Conv2D)          (None, 30, 30, 64)        1792      \n",
      "                                                                 \n",
      " max_pooling2d_55 (MaxPoolin  (None, 15, 15, 64)       0         \n",
      " g2D)                                                            \n",
      "                                                                 \n",
      " conv2d_63 (Conv2D)          (None, 13, 13, 64)        36928     \n",
      "                                                                 \n",
      " max_pooling2d_56 (MaxPoolin  (None, 6, 6, 64)         0         \n",
      " g2D)                                                            \n",
      "                                                                 \n",
      " conv2d_64 (Conv2D)          (None, 4, 4, 64)          36928     \n",
      "                                                                 \n",
      " max_pooling2d_57 (MaxPoolin  (None, 2, 2, 64)         0         \n",
      " g2D)                                                            \n",
      "                                                                 \n",
      " conv2d_65 (Conv2D)          (None, 1, 1, 32)          8224      \n",
      "                                                                 \n",
      " max_pooling2d_58 (MaxPoolin  (None, 1, 1, 32)         0         \n",
      " g2D)                                                            \n",
      "                                                                 \n",
      " flatten_10 (Flatten)        (None, 32)                0         \n",
      "                                                                 \n",
      " dense_22 (Dense)            (None, 32)                1056      \n",
      "                                                                 \n",
      " dense_23 (Dense)            (None, 10)                330       \n",
      "                                                                 \n",
      "=================================================================\n",
      "Total params: 85,258\n",
      "Trainable params: 85,258\n",
      "Non-trainable params: 0\n",
      "_________________________________________________________________\n"
     ]
    }
   ],
   "source": [
    "model_3 = Sequential()\n",
    "\n",
    "model_3.add(Conv2D(64, (3, 3), activation='relu', input_shape=(32, 32, 3)))\n",
    "model_3.add(MaxPooling2D((2, 2)))\n",
    "model_3.add(Conv2D(64, (3, 3), activation='relu'))\n",
    "model_3.add(MaxPooling2D((2, 2)))\n",
    "model_3.add(Conv2D(64, (3, 3), activation='relu'))\n",
    "model_3.add(MaxPooling2D((2, 2)))\n",
    "model_3.add(Conv2D(32, (2, 2), activation='relu'))\n",
    "model_3.add(MaxPooling2D((1, 1)))\n",
    "\n",
    "model_3.add(Flatten())\n",
    "model_3.add(Dense(32, activation='relu'))\n",
    "model_3.add(Dense(num_classes, activation='softmax'))\n",
    "\n",
    "model_3.summary()"
   ]
  },
  {
   "cell_type": "code",
   "execution_count": 48,
   "id": "2b208ed0",
   "metadata": {},
   "outputs": [
    {
     "name": "stdout",
     "output_type": "stream",
     "text": [
      "Epoch 1/10\n",
      "500/500 [==============================] - 63s 123ms/step - loss: 1.7656 - accuracy: 0.3435 - val_loss: 1.4783 - val_accuracy: 0.4491\n",
      "Epoch 2/10\n",
      "500/500 [==============================] - 61s 122ms/step - loss: 1.3858 - accuracy: 0.4961 - val_loss: 1.3324 - val_accuracy: 0.5221\n",
      "Epoch 3/10\n",
      "500/500 [==============================] - 62s 123ms/step - loss: 1.2504 - accuracy: 0.5500 - val_loss: 1.2104 - val_accuracy: 0.5643\n",
      "Epoch 4/10\n",
      "500/500 [==============================] - 61s 122ms/step - loss: 1.1465 - accuracy: 0.5908 - val_loss: 1.1262 - val_accuracy: 0.6067\n",
      "Epoch 5/10\n",
      "500/500 [==============================] - 61s 123ms/step - loss: 1.0686 - accuracy: 0.6207 - val_loss: 1.0898 - val_accuracy: 0.6139\n",
      "Epoch 6/10\n",
      "500/500 [==============================] - 61s 122ms/step - loss: 1.0082 - accuracy: 0.6434 - val_loss: 1.0213 - val_accuracy: 0.6502\n",
      "Epoch 7/10\n",
      "500/500 [==============================] - 62s 124ms/step - loss: 0.9551 - accuracy: 0.6625 - val_loss: 0.9820 - val_accuracy: 0.6578\n",
      "Epoch 8/10\n",
      "500/500 [==============================] - 62s 125ms/step - loss: 0.9114 - accuracy: 0.6805 - val_loss: 0.9544 - val_accuracy: 0.6680\n",
      "Epoch 9/10\n",
      "500/500 [==============================] - 63s 125ms/step - loss: 0.8749 - accuracy: 0.6932 - val_loss: 0.9398 - val_accuracy: 0.6742\n",
      "Epoch 10/10\n",
      "500/500 [==============================] - 62s 125ms/step - loss: 0.8430 - accuracy: 0.7036 - val_loss: 0.9404 - val_accuracy: 0.6719\n"
     ]
    }
   ],
   "source": [
    "model_3.compile(loss='categorical_crossentropy',\n",
    "              optimizer='Adam',\n",
    "              metrics=['accuracy'])\n",
    "\n",
    "history_3 = model_3.fit(X_train, y_train,\n",
    "                    batch_size=batch_size,\n",
    "                    epochs=epochs,\n",
    "                    validation_data=(X_test, y_test))"
   ]
  },
  {
   "cell_type": "code",
   "execution_count": 49,
   "id": "a4a79de6",
   "metadata": {},
   "outputs": [
    {
     "name": "stdout",
     "output_type": "stream",
     "text": [
      "Model: \"sequential_19\"\n",
      "_________________________________________________________________\n",
      " Layer (type)                Output Shape              Param #   \n",
      "=================================================================\n",
      " flatten_11 (Flatten)        (None, 3072)              0         \n",
      "                                                                 \n",
      " dense_24 (Dense)            (None, 64)                196672    \n",
      "                                                                 \n",
      " dense_25 (Dense)            (None, 64)                4160      \n",
      "                                                                 \n",
      " dense_26 (Dense)            (None, 32)                2080      \n",
      "                                                                 \n",
      " dense_27 (Dense)            (None, 32)                1056      \n",
      "                                                                 \n",
      " dense_28 (Dense)            (None, 10)                330       \n",
      "                                                                 \n",
      "=================================================================\n",
      "Total params: 204,298\n",
      "Trainable params: 204,298\n",
      "Non-trainable params: 0\n",
      "_________________________________________________________________\n"
     ]
    }
   ],
   "source": [
    "model_4 = Sequential()\n",
    "\n",
    "model_4.add(Flatten(input_shape=(32, 32, 3)))\n",
    "model_4.add(Dense(64, activation='relu'))\n",
    "model_4.add(Dense(64, activation='relu'))\n",
    "model_4.add(Dense(32, activation='relu'))\n",
    "\n",
    "model_4.add(Dense(32, activation='relu'))\n",
    "model_4.add(Dense(num_classes, activation='softmax'))\n",
    "\n",
    "model_4.summary()"
   ]
  },
  {
   "cell_type": "code",
   "execution_count": 50,
   "id": "0e36e38a",
   "metadata": {},
   "outputs": [
    {
     "name": "stdout",
     "output_type": "stream",
     "text": [
      "Epoch 1/10\n",
      "500/500 [==============================] - 5s 7ms/step - loss: 1.9125 - accuracy: 0.2998 - val_loss: 1.8180 - val_accuracy: 0.3447\n",
      "Epoch 2/10\n",
      "500/500 [==============================] - 3s 7ms/step - loss: 1.7501 - accuracy: 0.3661 - val_loss: 1.7092 - val_accuracy: 0.3796\n",
      "Epoch 3/10\n",
      "500/500 [==============================] - 3s 6ms/step - loss: 1.6755 - accuracy: 0.3966 - val_loss: 1.6665 - val_accuracy: 0.4049\n",
      "Epoch 4/10\n",
      "500/500 [==============================] - 3s 6ms/step - loss: 1.6269 - accuracy: 0.4169 - val_loss: 1.6032 - val_accuracy: 0.4344\n",
      "Epoch 5/10\n",
      "500/500 [==============================] - 3s 6ms/step - loss: 1.5845 - accuracy: 0.4306 - val_loss: 1.5544 - val_accuracy: 0.4475\n",
      "Epoch 6/10\n",
      "500/500 [==============================] - 3s 6ms/step - loss: 1.5591 - accuracy: 0.4406 - val_loss: 1.5571 - val_accuracy: 0.4433\n",
      "Epoch 7/10\n",
      "500/500 [==============================] - 3s 7ms/step - loss: 1.5306 - accuracy: 0.4536 - val_loss: 1.5249 - val_accuracy: 0.4549\n",
      "Epoch 8/10\n",
      "500/500 [==============================] - 3s 7ms/step - loss: 1.5184 - accuracy: 0.4551 - val_loss: 1.5412 - val_accuracy: 0.4449\n",
      "Epoch 9/10\n",
      "500/500 [==============================] - 3s 7ms/step - loss: 1.4957 - accuracy: 0.4642 - val_loss: 1.5233 - val_accuracy: 0.4529\n",
      "Epoch 10/10\n",
      "500/500 [==============================] - 4s 7ms/step - loss: 1.4877 - accuracy: 0.4663 - val_loss: 1.5112 - val_accuracy: 0.4542\n"
     ]
    }
   ],
   "source": [
    "model_4.compile(loss='categorical_crossentropy',\n",
    "              optimizer='Adam',\n",
    "              metrics=['accuracy'])\n",
    "\n",
    "history_4 = model_4.fit(X_train, y_train,\n",
    "                    batch_size=batch_size,\n",
    "                    epochs=epochs,\n",
    "                    validation_data=(X_test, y_test))"
   ]
  },
  {
   "cell_type": "code",
   "execution_count": 76,
   "id": "45e3043b",
   "metadata": {},
   "outputs": [
    {
     "data": {
      "image/png": "[encoded data removed]",
      "text/plain": [
       "<Figure size 1152x576 with 1 Axes>"
      ]
     },
     "metadata": {
      "needs_background": "light"
     },
     "output_type": "display_data"
    }
   ],
   "source": [
    "plt.figure(figsize=(16, 8))\n",
    "\n",
    "plt.plot(model.history.history['val_accuracy'], color='r', label='y_test base')\n",
    "plt.plot(model.history.history['accuracy'], color='r', linestyle='dashed', label='y_train base')\n",
    "plt.plot(model_2.history.history['val_accuracy'], color='g', label='y_test wide')\n",
    "plt.plot(model_2.history.history['accuracy'], color='g', linestyle='dashed', label='y_train wide')\n",
    "plt.plot(model_3.history.history['val_accuracy'], color='b', label='y_test deep')\n",
    "plt.plot(model_3.history.history['accuracy'], color='b', linestyle='dashed', label='y_train deep')\n",
    "plt.plot(model_4.history.history['val_accuracy'], color='purple', label='y_test full_con')\n",
    "plt.plot(model_4.history.history['accuracy'], color='purple', linestyle='dashed', label='y_train full_con')\n",
    "\n",
    "\n",
    "plt.xlabel('epochs')\n",
    "plt.ylabel('metrics')\n",
    "plt.legend()\n",
    "plt.show()"
   ]
  },
  {
   "cell_type": "markdown",
   "id": "3957ea5e",
   "metadata": {},
   "source": [
    "##### Полносвязная сеть - аутсайдер. Широкая лучше других. Глубокая от исходной немного отличается, но это отличие можно воспринимать, только если обучение закончить на предпоследней итерации, там результат на тесте выше, а на поледней метрики на тесте схожи"
   ]
  }
 ],
 "metadata": {
  "kernelspec": {
   "display_name": "Python 3 (ipykernel)",
   "language": "python",
   "name": "python3"
  },
  "language_info": {
   "codemirror_mode": {
    "name": "ipython",
    "version": 3
   },
   "file_extension": ".py",
   "mimetype": "text/x-python",
   "name": "python",
   "nbconvert_exporter": "python",
   "pygments_lexer": "ipython3",
   "version": "3.9.7"
  }
 },
 "nbformat": 4,
 "nbformat_minor": 5
}
